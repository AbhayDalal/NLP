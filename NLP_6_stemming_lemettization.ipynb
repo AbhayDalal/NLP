{
 "cells": [
  {
   "cell_type": "markdown",
   "id": "ddcb5c1c",
   "metadata": {},
   "source": [
    "### Stemming\n",
    "\n",
    "this is to find the root of the word\n",
    "\n",
    "steps for stemming\n",
    "1. Import stemmer from nltk.\n",
    "2. Import the Porter Stemmer or Snow Ball Stammer from the nltk.stemmer.\n",
    "3. Initialize the stemmer function.\n",
    "4. parse the word from the stemmer.\n"
   ]
  },
  {
   "cell_type": "code",
   "execution_count": 1,
   "id": "287d48ac",
   "metadata": {},
   "outputs": [],
   "source": [
    "import nltk\n",
    "import spacy"
   ]
  },
  {
   "cell_type": "code",
   "execution_count": 2,
   "id": "9fe50f79",
   "metadata": {},
   "outputs": [],
   "source": [
    "nlp=spacy.load(\"en_core_web_sm\")"
   ]
  },
  {
   "cell_type": "code",
   "execution_count": 3,
   "id": "42f9a028",
   "metadata": {},
   "outputs": [],
   "source": [
    "from nltk.stem.porter import PorterStemmer"
   ]
  },
  {
   "cell_type": "code",
   "execution_count": 4,
   "id": "364a8751",
   "metadata": {},
   "outputs": [],
   "source": [
    "p_stremer=PorterStemmer()"
   ]
  },
  {
   "cell_type": "code",
   "execution_count": 5,
   "id": "85601b20",
   "metadata": {},
   "outputs": [],
   "source": [
    "words=[\"run\",\"runner\",\"ran\",\"runs\",\"fairly\",\"easily\"]"
   ]
  },
  {
   "cell_type": "code",
   "execution_count": 11,
   "id": "f0c293e2",
   "metadata": {},
   "outputs": [
    {
     "name": "stdout",
     "output_type": "stream",
     "text": [
      "run--------->run----------\n",
      "runner--------->runner----------\n",
      "ran--------->ran----------\n",
      "runs--------->run----------\n",
      "fairly--------->fairli----------\n",
      "easily--------->easili----------\n"
     ]
    }
   ],
   "source": [
    "for word in words:\n",
    "    word1=nlp(word)\n",
    "    print(word+\"--------->\"+p_stremer.stem(word)+\"----------\")"
   ]
  },
  {
   "cell_type": "code",
   "execution_count": 12,
   "id": "d48200d2",
   "metadata": {},
   "outputs": [],
   "source": [
    "from nltk.stem.snowball import SnowballStemmer"
   ]
  },
  {
   "cell_type": "code",
   "execution_count": 13,
   "id": "3e0b08e4",
   "metadata": {},
   "outputs": [],
   "source": [
    "s_stemer=SnowballStemmer(language=\"english\")"
   ]
  },
  {
   "cell_type": "code",
   "execution_count": 14,
   "id": "53786306",
   "metadata": {},
   "outputs": [
    {
     "name": "stdout",
     "output_type": "stream",
     "text": [
      "run------>run\n",
      "runner------>runner\n",
      "ran------>ran\n",
      "runs------>run\n",
      "fairly------>fair\n",
      "easily------>easili\n"
     ]
    }
   ],
   "source": [
    "for word in words:\n",
    "    print(word+\"------>\"+s_stemer.stem(word))"
   ]
  },
  {
   "cell_type": "markdown",
   "id": "67203d1b",
   "metadata": {},
   "source": [
    "### Lemmatization\n",
    "\n",
    "Lemmatization is the process\n",
    "1. Import spacy. \n",
    "2. Load the english vocablery in the spacy using en_core_web_sm\n",
    "3. Read "
   ]
  },
  {
   "cell_type": "code",
   "execution_count": 15,
   "id": "01a27330",
   "metadata": {},
   "outputs": [],
   "source": [
    "import spacy"
   ]
  },
  {
   "cell_type": "code",
   "execution_count": 16,
   "id": "016a8a88",
   "metadata": {},
   "outputs": [],
   "source": [
    "nlp=spacy.load(\"en_core_web_sm\")"
   ]
  },
  {
   "cell_type": "code",
   "execution_count": 17,
   "id": "3862af80",
   "metadata": {},
   "outputs": [],
   "source": [
    "doc=nlp(u\"I am a runner running in a race because I love to run since I ran today\")"
   ]
  },
  {
   "cell_type": "code",
   "execution_count": 18,
   "id": "3cb5aa1b",
   "metadata": {},
   "outputs": [
    {
     "name": "stdout",
     "output_type": "stream",
     "text": [
      "I \t 561228191312463089 \t -PRON-\n",
      "am \t 10382539506755952630 \t be\n",
      "a \t 11901859001352538922 \t a\n",
      "runner \t 12640964157389618806 \t runner\n",
      "running \t 12767647472892411841 \t run\n",
      "in \t 3002984154512732771 \t in\n",
      "a \t 11901859001352538922 \t a\n",
      "race \t 8048469955494714898 \t race\n",
      "because \t 16950148841647037698 \t because\n",
      "I \t 561228191312463089 \t -PRON-\n",
      "love \t 3702023516439754181 \t love\n",
      "to \t 3791531372978436496 \t to\n",
      "run \t 12767647472892411841 \t run\n",
      "since \t 10066841407251338481 \t since\n",
      "I \t 561228191312463089 \t -PRON-\n",
      "ran \t 12767647472892411841 \t run\n",
      "today \t 11042482332948150395 \t today\n"
     ]
    }
   ],
   "source": [
    "for token in doc:\n",
    "    print(token.text,\"\\t\",token.lemma,'\\t',token.lemma_)"
   ]
  },
  {
   "cell_type": "code",
   "execution_count": 19,
   "id": "9089f3f1",
   "metadata": {},
   "outputs": [
    {
     "name": "stdout",
     "output_type": "stream",
     "text": [
      "I            PRON   561228191312463089     -PRON-\n",
      "am           VERB   10382539506755952630   be\n",
      "a            DET    11901859001352538922   a\n",
      "runner       NOUN   12640964157389618806   runner\n",
      "running      VERB   12767647472892411841   run\n",
      "in           ADP    3002984154512732771    in\n",
      "a            DET    11901859001352538922   a\n",
      "race         NOUN   8048469955494714898    race\n",
      "because      ADP    16950148841647037698   because\n",
      "I            PRON   561228191312463089     -PRON-\n",
      "love         VERB   3702023516439754181    love\n",
      "to           PART   3791531372978436496    to\n",
      "run          VERB   12767647472892411841   run\n",
      "since        ADP    10066841407251338481   since\n",
      "I            PRON   561228191312463089     -PRON-\n",
      "ran          VERB   12767647472892411841   run\n",
      "today        NOUN   11042482332948150395   today\n"
     ]
    }
   ],
   "source": [
    "for token in doc:\n",
    "    print(f\"{token.text:{12}} {token.pos_:{6}} {token.lemma:<{22}} {token.lemma_}\")"
   ]
  },
  {
   "cell_type": "markdown",
   "id": "7768957c",
   "metadata": {},
   "source": [
    "### Stop words"
   ]
  },
  {
   "cell_type": "code",
   "execution_count": 20,
   "id": "b1affed5",
   "metadata": {},
   "outputs": [],
   "source": [
    "from nltk.corpus import stopwords"
   ]
  },
  {
   "cell_type": "code",
   "execution_count": 21,
   "id": "73432f24",
   "metadata": {},
   "outputs": [
    {
     "name": "stdout",
     "output_type": "stream",
     "text": [
      "['i', 'me', 'my', 'myself', 'we', 'our', 'ours', 'ourselves', 'you', \"you're\", \"you've\", \"you'll\", \"you'd\", 'your', 'yours', 'yourself', 'yourselves', 'he', 'him', 'his', 'himself', 'she', \"she's\", 'her', 'hers', 'herself', 'it', \"it's\", 'its', 'itself', 'they', 'them', 'their', 'theirs', 'themselves', 'what', 'which', 'who', 'whom', 'this', 'that', \"that'll\", 'these', 'those', 'am', 'is', 'are', 'was', 'were', 'be', 'been', 'being', 'have', 'has', 'had', 'having', 'do', 'does', 'did', 'doing', 'a', 'an', 'the', 'and', 'but', 'if', 'or', 'because', 'as', 'until', 'while', 'of', 'at', 'by', 'for', 'with', 'about', 'against', 'between', 'into', 'through', 'during', 'before', 'after', 'above', 'below', 'to', 'from', 'up', 'down', 'in', 'out', 'on', 'off', 'over', 'under', 'again', 'further', 'then', 'once', 'here', 'there', 'when', 'where', 'why', 'how', 'all', 'any', 'both', 'each', 'few', 'more', 'most', 'other', 'some', 'such', 'no', 'nor', 'not', 'only', 'own', 'same', 'so', 'than', 'too', 'very', 's', 't', 'can', 'will', 'just', 'don', \"don't\", 'should', \"should've\", 'now', 'd', 'll', 'm', 'o', 're', 've', 'y', 'ain', 'aren', \"aren't\", 'couldn', \"couldn't\", 'didn', \"didn't\", 'doesn', \"doesn't\", 'hadn', \"hadn't\", 'hasn', \"hasn't\", 'haven', \"haven't\", 'isn', \"isn't\", 'ma', 'mightn', \"mightn't\", 'mustn', \"mustn't\", 'needn', \"needn't\", 'shan', \"shan't\", 'shouldn', \"shouldn't\", 'wasn', \"wasn't\", 'weren', \"weren't\", 'won', \"won't\", 'wouldn', \"wouldn't\"]\n"
     ]
    }
   ],
   "source": [
    "print(stopwords.words(\"english\"))"
   ]
  },
  {
   "cell_type": "code",
   "execution_count": 22,
   "id": "9fbc9a1c",
   "metadata": {},
   "outputs": [
    {
     "name": "stdout",
     "output_type": "stream",
     "text": [
      "179\n"
     ]
    }
   ],
   "source": [
    "print(len(stopwords.words(\"english\")))"
   ]
  },
  {
   "cell_type": "code",
   "execution_count": 23,
   "id": "73de8ee3",
   "metadata": {},
   "outputs": [],
   "source": [
    "import spacy"
   ]
  },
  {
   "cell_type": "code",
   "execution_count": 24,
   "id": "71090231",
   "metadata": {},
   "outputs": [],
   "source": [
    "nlp=spacy.load(\"en_core_web_sm\")"
   ]
  },
  {
   "cell_type": "code",
   "execution_count": 25,
   "id": "3ac37048",
   "metadata": {},
   "outputs": [
    {
     "name": "stdout",
     "output_type": "stream",
     "text": [
      "{'keep', 'a', 'sixty', 'so', 'both', 'seem', 'whatever', 'somewhere', 'sometime', 'ten', 'nobody', 'others', 'own', 'although', 'seemed', 'become', 'been', 'among', 'cannot', 'least', 'name', 'none', 'using', 'me', 'who', 'top', 'towards', 'her', 'yourselves', 'anywhere', 'beyond', 'amongst', 'how', 'other', 'full', 'thereafter', 'is', 'or', 'we', 'even', 'amount', 'behind', 'my', 'becoming', 'throughout', 'thus', 'why', 'six', 'hers', 'an', 'myself', 'see', 'thence', 'us', 'where', 'still', 'was', 'whereupon', 'am', 'three', 'mostly', 'no', 'third', 'while', 'once', 'therein', 'i', 'same', 'nor', 'down', 'here', 'back', 'hence', 'regarding', 'yours', 'hereafter', 'show', 'whoever', 'its', 'had', 'noone', 'fifty', 'our', 'between', 'did', 'you', 'through', 'first', 'them', 'to', 'until', 'else', 'are', 'further', 'about', 'afterwards', 'few', 'just', 'via', 'fifteen', 'too', 'were', 'off', 'each', 'take', 'go', 'will', 'he', 'becomes', 'formerly', 'under', 'when', 'him', 'being', 'hereby', 'into', 'from', 'themselves', 'two', 'elsewhere', 'yourself', 'any', 'all', 'might', 'after', 'sometimes', 'within', 'enough', 'due', 'moreover', 'now', 'front', 'beforehand', 'whither', 'along', 'get', 'really', 'many', 'ours', 'if', 'onto', 'wherever', 'would', 'anyhow', 'ever', 'beside', 'alone', 'during', 'have', 'everything', 'their', 'upon', 'except', 'less', 'which', 'meanwhile', 'without', 'herself', 'may', 'done', 'move', 'should', 'whom', 'again', 'could', 'forty', 'those', 'indeed', 'at', 'because', 'in', 'out', 'quite', 'be', 'though', 'put', 'nothing', 're', 'something', 'whereafter', 'everywhere', 'whereas', 'more', 'always', 'several', 'must', 'do', 'twenty', 'whose', 'nine', 'seems', 'rather', 'she', 'give', 'can', 'since', 'latter', 'most', 'serious', 'then', 'himself', 'never', 'latterly', 'often', 'someone', 'say', 'side', 'various', 'for', 'with', 'four', 'also', 'make', 'therefore', 'such', 'thru', 'eleven', 'every', 'one', 'on', 'than', 'ca', 'around', 'however', 'perhaps', 'anything', 'call', 'his', 'much', 'doing', 'only', 'part', 'these', 'whence', 'herein', 'already', 'thereby', 'unless', 'next', 'has', 'but', 'nowhere', 'twelve', 'nevertheless', 'used', 'together', 'hundred', 'wherein', 'whole', 'they', 'by', 'whereby', 'neither', 'and', 'below', 'over', 'mine', 'besides', 'otherwise', 'seeming', 'up', 'yet', 'bottom', 'your', 'everyone', 'does', 'above', 'five', 'what', 'toward', 'anyone', 'empty', 'some', 'somehow', 'the', 'either', 'this', 'whenever', 'ourselves', 'per', 'not', 'well', 'very', 'against', 'another', 'as', 'eight', 'last', 'made', 'namely', 'please', 'before', 'itself', 'there', 'whether', 'of', 'thereupon', 'anyway', 'hereupon', 'across', 'former', 'that', 'almost', 'became', 'it'}\n"
     ]
    }
   ],
   "source": [
    "print(nlp.Defaults.stop_words)"
   ]
  },
  {
   "cell_type": "code",
   "execution_count": 26,
   "id": "c0c01876",
   "metadata": {},
   "outputs": [
    {
     "name": "stdout",
     "output_type": "stream",
     "text": [
      "305\n"
     ]
    }
   ],
   "source": [
    "print(len(nlp.Defaults.stop_words))"
   ]
  },
  {
   "cell_type": "code",
   "execution_count": 27,
   "id": "4668b7e7",
   "metadata": {},
   "outputs": [
    {
     "data": {
      "text/plain": [
       "True"
      ]
     },
     "execution_count": 27,
     "metadata": {},
     "output_type": "execute_result"
    }
   ],
   "source": [
    "nlp.vocab[\"him\"].is_stop"
   ]
  },
  {
   "cell_type": "code",
   "execution_count": 28,
   "id": "8670b05e",
   "metadata": {},
   "outputs": [],
   "source": [
    "nlp.Defaults.stop_words.add(\"btw\")"
   ]
  },
  {
   "cell_type": "code",
   "execution_count": 29,
   "id": "3b5a742d",
   "metadata": {},
   "outputs": [
    {
     "data": {
      "text/plain": [
       "306"
      ]
     },
     "execution_count": 29,
     "metadata": {},
     "output_type": "execute_result"
    }
   ],
   "source": [
    "len(nlp.Defaults.stop_words)"
   ]
  },
  {
   "cell_type": "code",
   "execution_count": 30,
   "id": "547228f2",
   "metadata": {},
   "outputs": [],
   "source": [
    "nlp.vocab[\"btw\"].is_stop=True"
   ]
  },
  {
   "cell_type": "code",
   "execution_count": 31,
   "id": "23e67608",
   "metadata": {},
   "outputs": [
    {
     "data": {
      "text/plain": [
       "True"
      ]
     },
     "execution_count": 31,
     "metadata": {},
     "output_type": "execute_result"
    }
   ],
   "source": [
    "nlp.vocab[\"btw\"].is_stop"
   ]
  },
  {
   "cell_type": "code",
   "execution_count": 32,
   "id": "cb4d095a",
   "metadata": {},
   "outputs": [],
   "source": [
    "lis=[\"abhay\"]\n",
    "for a in lis:\n",
    "    nlp.Defaults.stop_words.add(a)\n",
    "    nlp.vocab[a].is_stop=True"
   ]
  },
  {
   "cell_type": "code",
   "execution_count": 33,
   "id": "eba89166",
   "metadata": {},
   "outputs": [
    {
     "data": {
      "text/plain": [
       "307"
      ]
     },
     "execution_count": 33,
     "metadata": {},
     "output_type": "execute_result"
    }
   ],
   "source": [
    "len(nlp.Defaults.stop_words)"
   ]
  },
  {
   "cell_type": "code",
   "execution_count": 34,
   "id": "8f737434",
   "metadata": {},
   "outputs": [],
   "source": [
    "nlp.Defaults.stop_words.remove(\"abhay\")"
   ]
  },
  {
   "cell_type": "code",
   "execution_count": 35,
   "id": "ba1a9256",
   "metadata": {},
   "outputs": [],
   "source": [
    "nlp.vocab[\"abhay\"].is_stop = False"
   ]
  },
  {
   "cell_type": "code",
   "execution_count": null,
   "id": "da238a97",
   "metadata": {},
   "outputs": [],
   "source": []
  },
  {
   "cell_type": "code",
   "execution_count": null,
   "id": "6b59a3e2",
   "metadata": {},
   "outputs": [],
   "source": []
  }
 ],
 "metadata": {
  "kernelspec": {
   "display_name": "Python 3 (ipykernel)",
   "language": "python",
   "name": "python3"
  },
  "language_info": {
   "codemirror_mode": {
    "name": "ipython",
    "version": 3
   },
   "file_extension": ".py",
   "mimetype": "text/x-python",
   "name": "python",
   "nbconvert_exporter": "python",
   "pygments_lexer": "ipython3",
   "version": "3.7.11"
  }
 },
 "nbformat": 4,
 "nbformat_minor": 5
}

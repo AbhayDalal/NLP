{
 "cells": [
  {
   "cell_type": "code",
   "execution_count": 4,
   "id": "34d294c9",
   "metadata": {},
   "outputs": [],
   "source": [
    "import spacy"
   ]
  },
  {
   "cell_type": "code",
   "execution_count": 5,
   "id": "ead29bd7",
   "metadata": {},
   "outputs": [],
   "source": [
    "nlp=spacy.load(\"en_core_web_sm\")"
   ]
  },
  {
   "cell_type": "code",
   "execution_count": 6,
   "id": "3bbb4ac4",
   "metadata": {},
   "outputs": [],
   "source": [
    "from spacy.tokens import Span"
   ]
  },
  {
   "cell_type": "code",
   "execution_count": 12,
   "id": "98ff28d4",
   "metadata": {},
   "outputs": [],
   "source": [
    "doc=nlp(u\"Trhe tesla com is the upcoming car company having big ptantial than the \")"
   ]
  },
  {
   "cell_type": "code",
   "execution_count": 13,
   "id": "a2ac9c0e",
   "metadata": {},
   "outputs": [],
   "source": [
    "ORG=doc.vocab.strings[u\"ORG\"]"
   ]
  },
  {
   "cell_type": "code",
   "execution_count": 14,
   "id": "ca020f97",
   "metadata": {},
   "outputs": [
    {
     "data": {
      "text/plain": [
       "381"
      ]
     },
     "execution_count": 14,
     "metadata": {},
     "output_type": "execute_result"
    }
   ],
   "source": [
    "ORG"
   ]
  },
  {
   "cell_type": "code",
   "execution_count": 25,
   "id": "9aadd6cf",
   "metadata": {},
   "outputs": [],
   "source": [
    "new_ent=Span(doc,1,3,label=ORG)"
   ]
  },
  {
   "cell_type": "code",
   "execution_count": 26,
   "id": "6d33a0d8",
   "metadata": {},
   "outputs": [],
   "source": [
    "doc.ents=list(doc.ents)+[new_ent]"
   ]
  },
  {
   "cell_type": "code",
   "execution_count": 27,
   "id": "f069e525",
   "metadata": {},
   "outputs": [
    {
     "name": "stdout",
     "output_type": "stream",
     "text": [
      "Trhe----ORG----Companies, agencies, institutions, etc.\n",
      "tesla com----ORG----Companies, agencies, institutions, etc.\n"
     ]
    }
   ],
   "source": [
    "if doc.ents:\n",
    "    for ent in doc.ents:\n",
    "        print(ent.text+\"----\"+ ent.label_+\"----\"+str(spacy.explain(ent.label_)))\n",
    "else:\n",
    "    print(\"No entity found \")"
   ]
  },
  {
   "cell_type": "code",
   "execution_count": null,
   "id": "5e7b3de4",
   "metadata": {},
   "outputs": [],
   "source": []
  },
  {
   "cell_type": "code",
   "execution_count": null,
   "id": "62325855",
   "metadata": {},
   "outputs": [],
   "source": []
  }
 ],
 "metadata": {
  "kernelspec": {
   "display_name": "Python 3 (ipykernel)",
   "language": "python",
   "name": "python3"
  },
  "language_info": {
   "codemirror_mode": {
    "name": "ipython",
    "version": 3
   },
   "file_extension": ".py",
   "mimetype": "text/x-python",
   "name": "python",
   "nbconvert_exporter": "python",
   "pygments_lexer": "ipython3",
   "version": "3.7.11"
  }
 },
 "nbformat": 4,
 "nbformat_minor": 5
}

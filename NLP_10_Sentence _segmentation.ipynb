{
 "cells": [
  {
   "cell_type": "code",
   "execution_count": 1,
   "id": "1f410465",
   "metadata": {},
   "outputs": [],
   "source": [
    "import spacy"
   ]
  },
  {
   "cell_type": "code",
   "execution_count": 2,
   "id": "f998db4c",
   "metadata": {},
   "outputs": [],
   "source": [
    "nlp=spacy.load(\"en_core_web_sm\")"
   ]
  },
  {
   "cell_type": "code",
   "execution_count": 3,
   "id": "90d92bbc",
   "metadata": {},
   "outputs": [],
   "source": [
    "doc=nlp(u\"This is first sentence. This is another sentence. This is last sentence\")"
   ]
  },
  {
   "cell_type": "code",
   "execution_count": 4,
   "id": "8d7ce74c",
   "metadata": {},
   "outputs": [
    {
     "name": "stdout",
     "output_type": "stream",
     "text": [
      "This is first sentence.\n",
      "This is another sentence.\n",
      "This is last sentence\n"
     ]
    }
   ],
   "source": [
    "for sent in doc.sents:\n",
    "    print(sent)"
   ]
  },
  {
   "cell_type": "code",
   "execution_count": 5,
   "id": "6a142455",
   "metadata": {},
   "outputs": [
    {
     "data": {
      "text/plain": [
       "[This is first sentence., This is another sentence., This is last sentence]"
      ]
     },
     "execution_count": 5,
     "metadata": {},
     "output_type": "execute_result"
    }
   ],
   "source": [
    "list(doc.sents)"
   ]
  },
  {
   "cell_type": "code",
   "execution_count": 6,
   "id": "87e0c29c",
   "metadata": {},
   "outputs": [
    {
     "data": {
      "text/plain": [
       "spacy.tokens.span.Span"
      ]
     },
     "execution_count": 6,
     "metadata": {},
     "output_type": "execute_result"
    }
   ],
   "source": [
    "type(list(doc.sents)[0])"
   ]
  },
  {
   "cell_type": "code",
   "execution_count": 7,
   "id": "49ece1ac",
   "metadata": {},
   "outputs": [],
   "source": [
    "doc2=nlp(u'\"Managment is doing right thing ; leadership is doing right thing.\" -Peter Drucker')"
   ]
  },
  {
   "cell_type": "code",
   "execution_count": 8,
   "id": "332be94b",
   "metadata": {},
   "outputs": [
    {
     "name": "stdout",
     "output_type": "stream",
     "text": [
      "\"Managment is doing right thing ; leadership is doing right thing.\"\n",
      "-Peter Drucker\n"
     ]
    }
   ],
   "source": [
    "for sent in doc2.sents:\n",
    "    print(sent)"
   ]
  },
  {
   "cell_type": "code",
   "execution_count": 9,
   "id": "a1fe0757",
   "metadata": {},
   "outputs": [
    {
     "data": {
      "text/plain": [
       "'\"Managment is doing right thing ; leadership is doing right thing.\" -Peter Drucker'"
      ]
     },
     "execution_count": 9,
     "metadata": {},
     "output_type": "execute_result"
    }
   ],
   "source": [
    "doc2.text"
   ]
  },
  {
   "cell_type": "markdown",
   "id": "ce3d8559",
   "metadata": {},
   "source": [
    " ### Add segmentation rule in the spacy"
   ]
  },
  {
   "cell_type": "code",
   "execution_count": 10,
   "id": "1524301f",
   "metadata": {},
   "outputs": [],
   "source": [
    "def Set_Custom_Segmentayion_Boundaries(doc):\n",
    "    for token in doc[:-1]:\n",
    "        if token.text==\";\":\n",
    "            doc[token.i+1].is_sent_start= True\n",
    "    return doc"
   ]
  },
  {
   "cell_type": "code",
   "execution_count": 11,
   "id": "7311849d",
   "metadata": {},
   "outputs": [],
   "source": [
    "nlp.add_pipe(Set_Custom_Segmentayion_Boundaries,before='parser')"
   ]
  },
  {
   "cell_type": "code",
   "execution_count": 12,
   "id": "94102846",
   "metadata": {},
   "outputs": [],
   "source": [
    "doc4=nlp(u'\"Managment is doing right thing ; leadership is doing right thing.\" -Peter Drucker')"
   ]
  },
  {
   "cell_type": "code",
   "execution_count": 13,
   "id": "969e00ff",
   "metadata": {},
   "outputs": [
    {
     "name": "stdout",
     "output_type": "stream",
     "text": [
      "\"Managment is doing right thing ;\n",
      "leadership is doing right thing.\"\n",
      "-Peter Drucker\n"
     ]
    }
   ],
   "source": [
    "for sent in doc4.sents:\n",
    "    print(sent)"
   ]
  },
  {
   "cell_type": "code",
   "execution_count": null,
   "id": "bed7182e",
   "metadata": {},
   "outputs": [],
   "source": []
  },
  {
   "cell_type": "code",
   "execution_count": null,
   "id": "0997012e",
   "metadata": {},
   "outputs": [],
   "source": []
  },
  {
   "cell_type": "markdown",
   "id": "780de7b2",
   "metadata": {},
   "source": [
    "### Change the all segmentation rule"
   ]
  },
  {
   "cell_type": "code",
   "execution_count": 14,
   "id": "48e9c6e1",
   "metadata": {},
   "outputs": [],
   "source": [
    "nlp=spacy.load(\"en_core_web_sm\")"
   ]
  },
  {
   "cell_type": "code",
   "execution_count": 15,
   "id": "92bcd73b",
   "metadata": {},
   "outputs": [],
   "source": [
    "mystring=nlp(u\"This is the sntence. This is another.\\n\\nThis is a \\nThird Sentence\")"
   ]
  },
  {
   "cell_type": "code",
   "execution_count": 16,
   "id": "b7259082",
   "metadata": {},
   "outputs": [
    {
     "name": "stdout",
     "output_type": "stream",
     "text": [
      "This is the sntence. This is another.\n",
      "\n",
      "This is a \n",
      "Third Sentence\n"
     ]
    }
   ],
   "source": [
    "print(mystring)"
   ]
  },
  {
   "cell_type": "code",
   "execution_count": 17,
   "id": "90caffa2",
   "metadata": {},
   "outputs": [
    {
     "name": "stdout",
     "output_type": "stream",
     "text": [
      "This is the sntence.\n",
      "This is another.\n",
      "\n",
      "\n",
      "This is a \n",
      "Third Sentence\n"
     ]
    }
   ],
   "source": [
    "for sentence in mystring.sents:\n",
    "    print(sentence)"
   ]
  },
  {
   "cell_type": "code",
   "execution_count": 18,
   "id": "4bf8bf19",
   "metadata": {},
   "outputs": [],
   "source": [
    "from spacy.pipeline import SentenceSegmenter"
   ]
  },
  {
   "cell_type": "code",
   "execution_count": 19,
   "id": "79732f8e",
   "metadata": {},
   "outputs": [],
   "source": [
    "def split_on_newline(doc):\n",
    "    start=0\n",
    "    seen_newline=False\n",
    "    \n",
    "    for word in doc:\n",
    "        if seen_newline:\n",
    "            yield doc[start:word.i]\n",
    "            start =word.i    \n",
    "            seen_newline=False\n",
    "        elif word.text.startswith('\\n'):\n",
    "            seen_newline=True\n",
    "    yield doc[start:]\n",
    "    "
   ]
  },
  {
   "cell_type": "code",
   "execution_count": 20,
   "id": "b237ddf8",
   "metadata": {},
   "outputs": [],
   "source": [
    "sdb=SentenceSegmenter(nlp.vocab,strategy=split_on_newline)"
   ]
  },
  {
   "cell_type": "code",
   "execution_count": 21,
   "id": "dbc21363",
   "metadata": {},
   "outputs": [],
   "source": [
    "nlp.add_pipe(sdb)"
   ]
  },
  {
   "cell_type": "code",
   "execution_count": 22,
   "id": "fe66ce92",
   "metadata": {},
   "outputs": [],
   "source": [
    "doc=nlp(u\"This is the sntence. This is another.\\n\\nThis is a \\nThird Sentence\")"
   ]
  },
  {
   "cell_type": "code",
   "execution_count": 23,
   "id": "5a5fd50a",
   "metadata": {},
   "outputs": [
    {
     "name": "stdout",
     "output_type": "stream",
     "text": [
      "This is the sntence. This is another.\n",
      "\n",
      "\n",
      "This is a \n",
      "\n",
      "Third Sentence\n"
     ]
    }
   ],
   "source": [
    "for sentence in doc.sents:\n",
    "    print(sentence)"
   ]
  },
  {
   "cell_type": "code",
   "execution_count": null,
   "id": "31cba037",
   "metadata": {},
   "outputs": [],
   "source": []
  }
 ],
 "metadata": {
  "kernelspec": {
   "display_name": "Python 3 (ipykernel)",
   "language": "python",
   "name": "python3"
  },
  "language_info": {
   "codemirror_mode": {
    "name": "ipython",
    "version": 3
   },
   "file_extension": ".py",
   "mimetype": "text/x-python",
   "name": "python",
   "nbconvert_exporter": "python",
   "pygments_lexer": "ipython3",
   "version": "3.7.11"
  }
 },
 "nbformat": 4,
 "nbformat_minor": 5
}

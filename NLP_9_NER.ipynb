{
 "cells": [
  {
   "cell_type": "code",
   "execution_count": 1,
   "id": "f4bee0c2",
   "metadata": {},
   "outputs": [],
   "source": [
    "import spacy"
   ]
  },
  {
   "cell_type": "code",
   "execution_count": 2,
   "id": "f3981808",
   "metadata": {},
   "outputs": [],
   "source": [
    "nlp=spacy.load(\"en_core_web_sm\")"
   ]
  },
  {
   "cell_type": "code",
   "execution_count": 3,
   "id": "1a9758fb",
   "metadata": {},
   "outputs": [],
   "source": [
    "def show_ent(doc):\n",
    "    if doc.ents:\n",
    "        for ent in doc.ents:\n",
    "            print(ent.text+\"----\"+ ent.label_+\"----\"+str(spacy.explain(ent.label_)))\n",
    "    else:\n",
    "        print(\"No entity found \")"
   ]
  },
  {
   "cell_type": "code",
   "execution_count": 4,
   "id": "2f9c459d",
   "metadata": {},
   "outputs": [],
   "source": [
    "doc=nlp(u\"Hi how are you?\")"
   ]
  },
  {
   "cell_type": "code",
   "execution_count": 5,
   "id": "c735e215",
   "metadata": {},
   "outputs": [
    {
     "name": "stdout",
     "output_type": "stream",
     "text": [
      "No entity found \n"
     ]
    }
   ],
   "source": [
    "show_ent(doc)"
   ]
  },
  {
   "cell_type": "code",
   "execution_count": 6,
   "id": "c21c158d",
   "metadata": {},
   "outputs": [],
   "source": [
    "doc=nlp(u\"May I go to Washington , DC next May to see the Washington Monument\")"
   ]
  },
  {
   "cell_type": "code",
   "execution_count": 7,
   "id": "15d07d67",
   "metadata": {},
   "outputs": [
    {
     "name": "stdout",
     "output_type": "stream",
     "text": [
      "Washington , DC----GPE----Countries, cities, states\n",
      "next May----DATE----Absolute or relative dates or periods\n",
      "the Washington Monument----ORG----Companies, agencies, institutions, etc.\n"
     ]
    }
   ],
   "source": [
    "show_ent(doc)"
   ]
  },
  {
   "cell_type": "code",
   "execution_count": 8,
   "id": "1e39cc55",
   "metadata": {},
   "outputs": [],
   "source": [
    "doc=nlp(u\"Can I please have $500 for Microsoft shares\")"
   ]
  },
  {
   "cell_type": "code",
   "execution_count": 9,
   "id": "f6b2ab4f",
   "metadata": {},
   "outputs": [
    {
     "name": "stdout",
     "output_type": "stream",
     "text": [
      "500----MONEY----Monetary values, including unit\n",
      "Microsoft----ORG----Companies, agencies, institutions, etc.\n"
     ]
    }
   ],
   "source": [
    "show_ent(doc)"
   ]
  },
  {
   "cell_type": "code",
   "execution_count": 10,
   "id": "dbbfb77e",
   "metadata": {},
   "outputs": [],
   "source": [
    "doc=nlp(u\"Tesla to build U.K. fctory for $6 Milion\")"
   ]
  },
  {
   "cell_type": "code",
   "execution_count": 11,
   "id": "71ddceab",
   "metadata": {},
   "outputs": [
    {
     "name": "stdout",
     "output_type": "stream",
     "text": [
      "U.K.----GPE----Countries, cities, states\n",
      "$6 Milion----ORG----Companies, agencies, institutions, etc.\n"
     ]
    }
   ],
   "source": [
    "show_ent(doc)"
   ]
  },
  {
   "cell_type": "code",
   "execution_count": 12,
   "id": "d77e861c",
   "metadata": {},
   "outputs": [],
   "source": [
    "from spacy.tokens import Span "
   ]
  },
  {
   "cell_type": "code",
   "execution_count": 13,
   "id": "7dd9f553",
   "metadata": {},
   "outputs": [],
   "source": [
    "ORG=doc.vocab.strings[u\"ORG\"]"
   ]
  },
  {
   "cell_type": "code",
   "execution_count": 14,
   "id": "4b10cbda",
   "metadata": {},
   "outputs": [
    {
     "data": {
      "text/plain": [
       "381"
      ]
     },
     "execution_count": 14,
     "metadata": {},
     "output_type": "execute_result"
    }
   ],
   "source": [
    "ORG"
   ]
  },
  {
   "cell_type": "code",
   "execution_count": 15,
   "id": "37eb3bf2",
   "metadata": {},
   "outputs": [],
   "source": [
    "new_ent=Span(doc,0,1,label=ORG)"
   ]
  },
  {
   "cell_type": "code",
   "execution_count": 16,
   "id": "c5904e25",
   "metadata": {},
   "outputs": [],
   "source": [
    "doc.ents=list(doc.ents)+[new_ent]"
   ]
  },
  {
   "cell_type": "code",
   "execution_count": 17,
   "id": "071aa22d",
   "metadata": {},
   "outputs": [],
   "source": [
    "ORG=doc.vocab.strings[u\"ORG\"]"
   ]
  },
  {
   "cell_type": "code",
   "execution_count": 18,
   "id": "56ed90e3",
   "metadata": {},
   "outputs": [
    {
     "data": {
      "text/plain": [
       "381"
      ]
     },
     "execution_count": 18,
     "metadata": {},
     "output_type": "execute_result"
    }
   ],
   "source": [
    "ORG"
   ]
  },
  {
   "cell_type": "code",
   "execution_count": 19,
   "id": "567686fb",
   "metadata": {},
   "outputs": [
    {
     "name": "stdout",
     "output_type": "stream",
     "text": [
      "Tesla----ORG----Companies, agencies, institutions, etc.\n",
      "U.K.----GPE----Countries, cities, states\n",
      "$6 Milion----ORG----Companies, agencies, institutions, etc.\n"
     ]
    }
   ],
   "source": [
    "show_ent(doc)"
   ]
  },
  {
   "cell_type": "code",
   "execution_count": 20,
   "id": "b4a839df",
   "metadata": {},
   "outputs": [],
   "source": [
    "doc=nlp(u\"Nagpur is the second capitol of the Maharashtra\")"
   ]
  },
  {
   "cell_type": "code",
   "execution_count": 21,
   "id": "0de656b0",
   "metadata": {},
   "outputs": [
    {
     "name": "stdout",
     "output_type": "stream",
     "text": [
      "second----ORDINAL----\"first\", \"second\", etc.\n",
      "Maharashtra----ORG----Companies, agencies, institutions, etc.\n"
     ]
    }
   ],
   "source": [
    "show_ent(doc)"
   ]
  },
  {
   "cell_type": "code",
   "execution_count": 23,
   "id": "97536e54",
   "metadata": {},
   "outputs": [],
   "source": [
    "GPE=doc.vocab.strings[u\"GPE\"]"
   ]
  },
  {
   "cell_type": "code",
   "execution_count": 24,
   "id": "0d27267e",
   "metadata": {},
   "outputs": [
    {
     "data": {
      "text/plain": [
       "382"
      ]
     },
     "execution_count": 24,
     "metadata": {},
     "output_type": "execute_result"
    }
   ],
   "source": [
    "GPE"
   ]
  },
  {
   "cell_type": "code",
   "execution_count": 25,
   "id": "c3edef41",
   "metadata": {},
   "outputs": [],
   "source": [
    "NAG_ent=Span(doc,0,1,label=GPE)"
   ]
  },
  {
   "cell_type": "code",
   "execution_count": 27,
   "id": "913d659c",
   "metadata": {},
   "outputs": [],
   "source": [
    "doc.ents=list(doc.ents)+[NAG_ent]"
   ]
  },
  {
   "cell_type": "code",
   "execution_count": 28,
   "id": "3aeca012",
   "metadata": {},
   "outputs": [
    {
     "name": "stdout",
     "output_type": "stream",
     "text": [
      "Nagpur----GPE----Countries, cities, states\n",
      "second----ORDINAL----\"first\", \"second\", etc.\n",
      "Maharashtra----ORG----Companies, agencies, institutions, etc.\n"
     ]
    }
   ],
   "source": [
    "show_ent(doc)"
   ]
  },
  {
   "cell_type": "code",
   "execution_count": 36,
   "id": "c38c9580",
   "metadata": {},
   "outputs": [],
   "source": [
    "doc=nlp(u\"Gadchiroli is the far eastern district of Maharashtra\")"
   ]
  },
  {
   "cell_type": "code",
   "execution_count": 37,
   "id": "db6f536f",
   "metadata": {},
   "outputs": [],
   "source": [
    "GAD_ent=Span(doc,0,1,label=GPE)"
   ]
  },
  {
   "cell_type": "code",
   "execution_count": 38,
   "id": "1de5631e",
   "metadata": {},
   "outputs": [],
   "source": [
    "doc.ents=list(doc.ents)+[GAD_ent]"
   ]
  },
  {
   "cell_type": "code",
   "execution_count": 39,
   "id": "9a70f750",
   "metadata": {},
   "outputs": [
    {
     "name": "stdout",
     "output_type": "stream",
     "text": [
      "Gadchiroli----GPE----Countries, cities, states\n",
      "Maharashtra----ORG----Companies, agencies, institutions, etc.\n"
     ]
    }
   ],
   "source": [
    "show_ent(doc)"
   ]
  },
  {
   "cell_type": "markdown",
   "id": "ed4c8187",
   "metadata": {},
   "source": [
    "### Adding Multiple Entity for NER"
   ]
  },
  {
   "cell_type": "code",
   "execution_count": 44,
   "id": "e2fd2744",
   "metadata": {},
   "outputs": [],
   "source": [
    "doc=nlp(u\"Our company creted brand new vacuum cleaner.\"\n",
    "        u\"This new vacuum-cleaner is best in show\")"
   ]
  },
  {
   "cell_type": "code",
   "execution_count": 45,
   "id": "88b18a4a",
   "metadata": {},
   "outputs": [
    {
     "name": "stdout",
     "output_type": "stream",
     "text": [
      "No entity found \n"
     ]
    }
   ],
   "source": [
    "show_ent(doc)"
   ]
  },
  {
   "cell_type": "code",
   "execution_count": 46,
   "id": "f86a4f5f",
   "metadata": {},
   "outputs": [],
   "source": [
    "from spacy.matcher import PhraseMatcher"
   ]
  },
  {
   "cell_type": "code",
   "execution_count": 47,
   "id": "cd4d0666",
   "metadata": {},
   "outputs": [],
   "source": [
    "matcher=PhraseMatcher(nlp.vocab)"
   ]
  },
  {
   "cell_type": "code",
   "execution_count": 54,
   "id": "58f82648",
   "metadata": {},
   "outputs": [],
   "source": [
    "phrase_list=[\"vacuum cleaner\", \"vacuum-cleaner\"]"
   ]
  },
  {
   "cell_type": "code",
   "execution_count": 55,
   "id": "967438b6",
   "metadata": {},
   "outputs": [],
   "source": [
    "phrase_pater=[nlp(text) for text in phrase_list]"
   ]
  },
  {
   "cell_type": "code",
   "execution_count": 56,
   "id": "3871e7d9",
   "metadata": {},
   "outputs": [],
   "source": [
    "matcher.add(\"newproduct\", None,*phrase_pater)"
   ]
  },
  {
   "cell_type": "code",
   "execution_count": 57,
   "id": "bb12cad4",
   "metadata": {},
   "outputs": [],
   "source": [
    "found_matche=matcher(doc)"
   ]
  },
  {
   "cell_type": "code",
   "execution_count": 58,
   "id": "5616a1ab",
   "metadata": {},
   "outputs": [
    {
     "data": {
      "text/plain": [
       "[(2689272359382549672, 5, 7), (2689272359382549672, 10, 13)]"
      ]
     },
     "execution_count": 58,
     "metadata": {},
     "output_type": "execute_result"
    }
   ],
   "source": [
    "found_matche"
   ]
  },
  {
   "cell_type": "code",
   "execution_count": 60,
   "id": "2137112a",
   "metadata": {},
   "outputs": [],
   "source": [
    "from spacy.tokens import Span"
   ]
  },
  {
   "cell_type": "code",
   "execution_count": 61,
   "id": "d23f0312",
   "metadata": {},
   "outputs": [],
   "source": [
    "PROD=doc.vocab.strings[u\"PRODUCT\"]"
   ]
  },
  {
   "cell_type": "code",
   "execution_count": 62,
   "id": "764cf91f",
   "metadata": {},
   "outputs": [],
   "source": [
    "new_ents=[Span(doc,match[1],match[2],label=PROD) for match in found_matche]"
   ]
  },
  {
   "cell_type": "code",
   "execution_count": 64,
   "id": "7b1f5b09",
   "metadata": {},
   "outputs": [],
   "source": [
    "doc.ents=list(doc.ents)+new_ents"
   ]
  },
  {
   "cell_type": "code",
   "execution_count": 65,
   "id": "f0825cd5",
   "metadata": {},
   "outputs": [
    {
     "name": "stdout",
     "output_type": "stream",
     "text": [
      "vacuum cleaner----PRODUCT----Objects, vehicles, foods, etc. (not services)\n",
      "vacuum-cleaner----PRODUCT----Objects, vehicles, foods, etc. (not services)\n"
     ]
    }
   ],
   "source": [
    "show_ent(doc)"
   ]
  },
  {
   "cell_type": "code",
   "execution_count": 68,
   "id": "f052c034",
   "metadata": {},
   "outputs": [],
   "source": [
    "doc=nlp(u\"Originaly I paid $29.95 for this car toy but now it is marked down by 10 dollars\")"
   ]
  },
  {
   "cell_type": "code",
   "execution_count": 69,
   "id": "fbe3c580",
   "metadata": {},
   "outputs": [
    {
     "data": {
      "text/plain": [
       "2"
      ]
     },
     "execution_count": 69,
     "metadata": {},
     "output_type": "execute_result"
    }
   ],
   "source": [
    "len([ent for ent in doc.ents if ent.label_==\"MONEY\"])"
   ]
  },
  {
   "cell_type": "code",
   "execution_count": null,
   "id": "0c6be678",
   "metadata": {},
   "outputs": [],
   "source": []
  }
 ],
 "metadata": {
  "kernelspec": {
   "display_name": "Python 3 (ipykernel)",
   "language": "python",
   "name": "python3"
  },
  "language_info": {
   "codemirror_mode": {
    "name": "ipython",
    "version": 3
   },
   "file_extension": ".py",
   "mimetype": "text/x-python",
   "name": "python",
   "nbconvert_exporter": "python",
   "pygments_lexer": "ipython3",
   "version": "3.7.11"
  }
 },
 "nbformat": 4,
 "nbformat_minor": 5
}

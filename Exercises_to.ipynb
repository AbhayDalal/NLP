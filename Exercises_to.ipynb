{
 "cells": [
  {
   "cell_type": "markdown",
   "id": "f16ff74c",
   "metadata": {},
   "source": [
    "## Adding pattern to match in the Spacy\n",
    "1. write pattern \n",
    "2. \"LOWER\" is the patternt to define the alphabetical pattern.\n",
    "3. \"IS_PUNCT\" is use to define the is punctuation is define in the pattern."
   ]
  },
  {
   "cell_type": "code",
   "execution_count": 1,
   "id": "d77d3d9e",
   "metadata": {},
   "outputs": [],
   "source": [
    "import spacy"
   ]
  },
  {
   "cell_type": "code",
   "execution_count": 2,
   "id": "1ddfa3f0",
   "metadata": {},
   "outputs": [],
   "source": [
    "nlp=spacy.load(\"en_core_web_sm\")"
   ]
  },
  {
   "cell_type": "code",
   "execution_count": 3,
   "id": "7f790a79",
   "metadata": {},
   "outputs": [],
   "source": [
    "from spacy.matcher import Matcher"
   ]
  },
  {
   "cell_type": "code",
   "execution_count": 4,
   "id": "4a6beac2",
   "metadata": {},
   "outputs": [],
   "source": [
    "matcher=Matcher(nlp.vocab)"
   ]
  },
  {
   "cell_type": "code",
   "execution_count": 5,
   "id": "2ae03bd1",
   "metadata": {},
   "outputs": [],
   "source": [
    "pattern1=[{'LOWER':'solarpower'}]\n",
    "pattern2=[{'LOWER':'solar'},{'IS_PUNCT':True},{'LOWER':'power'}]\n",
    "pattern3=[{'LOWER':'solar'},{'LOWER':'power'}]"
   ]
  },
  {
   "cell_type": "code",
   "execution_count": 6,
   "id": "23d75608",
   "metadata": {},
   "outputs": [],
   "source": [
    "matcher.add(\"solarpower\",None,pattern1,pattern2,pattern3)"
   ]
  },
  {
   "cell_type": "code",
   "execution_count": 7,
   "id": "90204415",
   "metadata": {},
   "outputs": [],
   "source": [
    "doc=nlp(u\"the solarpower is the emerging trend in the power industry\\\n",
    "           solar-power will be the cheap source , and the solarpower\")"
   ]
  },
  {
   "cell_type": "code",
   "execution_count": 8,
   "id": "a1961921",
   "metadata": {},
   "outputs": [],
   "source": [
    "match_found=matcher(doc)"
   ]
  },
  {
   "cell_type": "code",
   "execution_count": 9,
   "id": "fddc8ca1",
   "metadata": {},
   "outputs": [
    {
     "name": "stdout",
     "output_type": "stream",
     "text": [
      "[(5703546853475899243, 1, 2), (5703546853475899243, 11, 14), (5703546853475899243, 22, 23)]\n"
     ]
    }
   ],
   "source": [
    "print(match_found)"
   ]
  },
  {
   "cell_type": "code",
   "execution_count": 10,
   "id": "199bd540",
   "metadata": {},
   "outputs": [
    {
     "name": "stdout",
     "output_type": "stream",
     "text": [
      "5703546853475899243 solarpower solarpower\n",
      "5703546853475899243 solarpower solar-power\n",
      "5703546853475899243 solarpower solarpower\n"
     ]
    }
   ],
   "source": [
    "for match_id, start, stop in match_found:\n",
    "    string_id=nlp.vocab.strings[match_id]\n",
    "    span=doc[start:stop]\n",
    "    word=span.text\n",
    "    print(f\"{match_id:{10}} {string_id:{10}} {word}\")"
   ]
  },
  {
   "cell_type": "code",
   "execution_count": 11,
   "id": "45b72fdc",
   "metadata": {},
   "outputs": [],
   "source": [
    "from spacy.matcher import PhraseMatcher"
   ]
  },
  {
   "cell_type": "code",
   "execution_count": 12,
   "id": "458be446",
   "metadata": {},
   "outputs": [],
   "source": [
    "matcher=PhraseMatcher(nlp.vocab)"
   ]
  },
  {
   "cell_type": "code",
   "execution_count": 13,
   "id": "c37143e0",
   "metadata": {},
   "outputs": [],
   "source": [
    "with open(\"E:\\\\UPDATED_NLP_COURSE\\\\UPDATED_NLP_COURSE\\\\TextFiles\\\\reaganomics.txt\") as f:\n",
    "    doc=nlp(f.read())"
   ]
  },
  {
   "cell_type": "code",
   "execution_count": 14,
   "id": "77edbbcd",
   "metadata": {},
   "outputs": [],
   "source": [
    "phrase_list=[\"supply-side economics\",\"voodoo economics\",\"trickle-down economics\",\"free-market economics\"]"
   ]
  },
  {
   "cell_type": "code",
   "execution_count": 15,
   "id": "98e36fea",
   "metadata": {},
   "outputs": [],
   "source": [
    "phrase_pattern=[nlp(phrase) for phrase in phrase_list]"
   ]
  },
  {
   "cell_type": "code",
   "execution_count": 16,
   "id": "15edc433",
   "metadata": {},
   "outputs": [],
   "source": [
    "matcher.add(\"EchMatcher\",None,*phrase_pattern)"
   ]
  },
  {
   "cell_type": "code",
   "execution_count": 17,
   "id": "d6a81b7b",
   "metadata": {},
   "outputs": [],
   "source": [
    "match_found=matcher(doc)"
   ]
  },
  {
   "cell_type": "code",
   "execution_count": 18,
   "id": "ca1a4cbd",
   "metadata": {},
   "outputs": [
    {
     "name": "stdout",
     "output_type": "stream",
     "text": [
      "[(12935696117049062159, 41, 45), (12935696117049062159, 49, 53), (12935696117049062159, 54, 56), (12935696117049062159, 61, 65), (12935696117049062159, 673, 677), (12935696117049062159, 2985, 2989)]\n"
     ]
    }
   ],
   "source": [
    "print(match_found)"
   ]
  },
  {
   "cell_type": "code",
   "execution_count": 19,
   "id": "af244150",
   "metadata": {},
   "outputs": [
    {
     "name": "stdout",
     "output_type": "stream",
     "text": [
      "12935696117049062159 EchMatcher 41 23 commonly associated with supply-side economics, referred to\n",
      "12935696117049062159 EchMatcher 49 23 referred to as trickle-down economics or voodoo economics\n",
      "12935696117049062159 EchMatcher 54 23 down economics or voodoo economics by political opponents\n",
      "12935696117049062159 EchMatcher 61 23 opponents, and free-market economics by political advocates\n",
      "12935696117049062159 EchMatcher 673 23 following from the supply-side economics movement, which\n",
      "12935696117049062159 EchMatcher 2985 23 known as \"trickle-down economics\", due\n"
     ]
    }
   ],
   "source": [
    "for match_id, start, end in match_found:\n",
    "    string_id=nlp.vocab.strings[match_id]\n",
    "    span=doc[start-3:end+3]\n",
    "    sent=span.text\n",
    "    print(match_id, string_id, start, stop, sent)"
   ]
  },
  {
   "cell_type": "code",
   "execution_count": 20,
   "id": "d6eb4382",
   "metadata": {},
   "outputs": [],
   "source": [
    "patter4=[{'LOWER':'solar'},{'IS_PUNCT':True,'OP':'*'},{'LOWER':'power'}]"
   ]
  },
  {
   "cell_type": "code",
   "execution_count": 21,
   "id": "c385cc18",
   "metadata": {},
   "outputs": [],
   "source": [
    "matcher=Matcher(nlp.vocab)"
   ]
  },
  {
   "cell_type": "code",
   "execution_count": 22,
   "id": "dbd1a853",
   "metadata": {},
   "outputs": [],
   "source": [
    "matcher.add(\"sp\",None,patter4)"
   ]
  },
  {
   "cell_type": "code",
   "execution_count": 23,
   "id": "42449247",
   "metadata": {},
   "outputs": [],
   "source": [
    "doc=nlp(u\"the solar--power is the powerful source of the power tin the universe and the solar-power will be solar power\")"
   ]
  },
  {
   "cell_type": "code",
   "execution_count": 24,
   "id": "fb80909e",
   "metadata": {},
   "outputs": [],
   "source": [
    "match_found=matcher(doc)"
   ]
  },
  {
   "cell_type": "code",
   "execution_count": 25,
   "id": "b6250590",
   "metadata": {},
   "outputs": [
    {
     "data": {
      "text/plain": [
       "[(2814393156629967458, 1, 4),\n",
       " (2814393156629967458, 16, 19),\n",
       " (2814393156629967458, 21, 23)]"
      ]
     },
     "execution_count": 25,
     "metadata": {},
     "output_type": "execute_result"
    }
   ],
   "source": [
    "match_found"
   ]
  },
  {
   "cell_type": "code",
   "execution_count": 26,
   "id": "ccf73d6b",
   "metadata": {},
   "outputs": [
    {
     "name": "stdout",
     "output_type": "stream",
     "text": [
      "2814393156629967458 sp 1 4 solar--power\n",
      "2814393156629967458 sp 16 19 solar-power\n",
      "2814393156629967458 sp 21 23 solar power\n"
     ]
    }
   ],
   "source": [
    "for match_id, start, stop in match_found:\n",
    "    string_id=nlp.vocab.strings[match_id]\n",
    "    span=doc[start:stop]\n",
    "    word=span.text\n",
    "    print(match_id, string_id, start, stop, word)"
   ]
  },
  {
   "cell_type": "code",
   "execution_count": 27,
   "id": "1e929295",
   "metadata": {},
   "outputs": [],
   "source": [
    "doc3=nlp(u\"the quick brown fox jumped over the lezy dog's back.\")"
   ]
  },
  {
   "cell_type": "code",
   "execution_count": 28,
   "id": "94805e68",
   "metadata": {},
   "outputs": [],
   "source": [
    "ps_count=doc3.count_by(spacy.attrs.POS)"
   ]
  },
  {
   "cell_type": "code",
   "execution_count": 29,
   "id": "b7ec5e17",
   "metadata": {},
   "outputs": [
    {
     "name": "stdout",
     "output_type": "stream",
     "text": [
      "{96: 1, 83: 3, 99: 1, 84: 1, 89: 2, 91: 3, 93: 1}\n"
     ]
    }
   ],
   "source": [
    "print(ps_count)"
   ]
  },
  {
   "cell_type": "code",
   "execution_count": 30,
   "id": "6e8911a5",
   "metadata": {},
   "outputs": [
    {
     "name": "stdout",
     "output_type": "stream",
     "text": [
      "PUNCT      1\n",
      "ADJ        3\n",
      "VERB       1\n",
      "ADP        1\n",
      "DET        2\n",
      "NOUN       3\n",
      "PART       1\n"
     ]
    }
   ],
   "source": [
    "for key, value in ps_count.items():\n",
    "    print(f\"{doc3.vocab[key].text:{10}} {value}\")"
   ]
  },
  {
   "cell_type": "code",
   "execution_count": 31,
   "id": "53388399",
   "metadata": {},
   "outputs": [],
   "source": [
    "tag_count=doc3.count_by(spacy.attrs.DEP)"
   ]
  },
  {
   "cell_type": "code",
   "execution_count": 32,
   "id": "d1dbfa42",
   "metadata": {},
   "outputs": [
    {
     "name": "stdout",
     "output_type": "stream",
     "text": [
      "{426: 1, 8206900633647566924: 1, 8110129090154140942: 1, 399: 2, 7037928807040764755: 1, 436: 1, 437: 1, 440: 1, 442: 1, 412: 2}\n"
     ]
    }
   ],
   "source": [
    "print(tag_count)"
   ]
  },
  {
   "cell_type": "code",
   "execution_count": 33,
   "id": "312a8d87",
   "metadata": {},
   "outputs": [
    {
     "name": "stdout",
     "output_type": "stream",
     "text": [
      "nsubj      1\n",
      "ROOT       1\n",
      "case       1\n",
      "amod       2\n",
      "compound   1\n",
      "pobj       1\n",
      "poss       1\n",
      "prep       1\n",
      "punct      1\n",
      "det        2\n"
     ]
    }
   ],
   "source": [
    "for key, value in tag_count.items():\n",
    "    print(f\"{doc3.vocab[key].text:{10}} {value}\")"
   ]
  },
  {
   "cell_type": "markdown",
   "id": "03fd247b",
   "metadata": {},
   "source": [
    "### Adding the entity in the pre defined spacy liabrary"
   ]
  },
  {
   "cell_type": "code",
   "execution_count": 34,
   "id": "f6f94c6b",
   "metadata": {},
   "outputs": [],
   "source": [
    "import spacy\n",
    "from spacy.tokens import Span"
   ]
  },
  {
   "cell_type": "code",
   "execution_count": 35,
   "id": "a01ccd5e",
   "metadata": {},
   "outputs": [],
   "source": [
    "nlp=spacy.load(\"en_core_web_sm\")"
   ]
  },
  {
   "cell_type": "code",
   "execution_count": 36,
   "id": "3a936b34",
   "metadata": {},
   "outputs": [],
   "source": [
    "def show_ent(doc):\n",
    "    if doc.ents:\n",
    "        for ent in doc.ents:\n",
    "            print(f\"{ent.text:{20}}{ent.label_:{10}}{str(spacy.explain(ent.label_))}\")\n",
    "    else:\n",
    "        print(\"No Entity Find in the Document\")"
   ]
  },
  {
   "cell_type": "code",
   "execution_count": 37,
   "id": "fdf80e10",
   "metadata": {},
   "outputs": [],
   "source": [
    "doc=nlp(u\"Hi How are You\")"
   ]
  },
  {
   "cell_type": "code",
   "execution_count": 38,
   "id": "f93ea685",
   "metadata": {},
   "outputs": [
    {
     "name": "stdout",
     "output_type": "stream",
     "text": [
      "No Entity Find in the Document\n"
     ]
    }
   ],
   "source": [
    "show_ent(doc)"
   ]
  },
  {
   "cell_type": "code",
   "execution_count": 39,
   "id": "da616de2",
   "metadata": {},
   "outputs": [],
   "source": [
    "doc1=nlp(u\"May I go to Washington ,DC next May to see Washington Monument\")"
   ]
  },
  {
   "cell_type": "code",
   "execution_count": 40,
   "id": "b8f574d1",
   "metadata": {},
   "outputs": [
    {
     "name": "stdout",
     "output_type": "stream",
     "text": [
      "Washington ,DC      GPE       Countries, cities, states\n",
      "next May            DATE      Absolute or relative dates or periods\n",
      "Washington Monument WORK_OF_ARTTitles of books, songs, etc.\n"
     ]
    }
   ],
   "source": [
    "show_ent(doc1)"
   ]
  },
  {
   "cell_type": "markdown",
   "id": "1b99f06a",
   "metadata": {},
   "source": [
    "#### Lets see this example \n",
    ". In this case Tesla is not inthe list of the organization but we can add in the spacy"
   ]
  },
  {
   "cell_type": "code",
   "execution_count": 41,
   "id": "19ce213a",
   "metadata": {},
   "outputs": [],
   "source": [
    "doc2=nlp(u\"Bhopal is the bigest Electrical vehical maufacturer in the world\")"
   ]
  },
  {
   "cell_type": "code",
   "execution_count": 42,
   "id": "75d9a674",
   "metadata": {},
   "outputs": [
    {
     "name": "stdout",
     "output_type": "stream",
     "text": [
      "No Entity Find in the Document\n"
     ]
    }
   ],
   "source": [
    "show_ent(doc2)"
   ]
  },
  {
   "cell_type": "code",
   "execution_count": 43,
   "id": "2b470d27",
   "metadata": {},
   "outputs": [],
   "source": [
    "GPE=doc2.vocab.strings[u\"GPE\"]"
   ]
  },
  {
   "cell_type": "code",
   "execution_count": 44,
   "id": "4f1496df",
   "metadata": {},
   "outputs": [],
   "source": [
    "BEP_ent=Span(doc2,0,1,label=GPE)"
   ]
  },
  {
   "cell_type": "code",
   "execution_count": 45,
   "id": "ab5c0049",
   "metadata": {},
   "outputs": [],
   "source": [
    "doc2.ents=list(doc2.ents)+[BEP_ent]"
   ]
  },
  {
   "cell_type": "code",
   "execution_count": 46,
   "id": "e1235e12",
   "metadata": {},
   "outputs": [
    {
     "name": "stdout",
     "output_type": "stream",
     "text": [
      "Bhopal              GPE       Countries, cities, states\n"
     ]
    }
   ],
   "source": [
    "show_ent(doc2)"
   ]
  },
  {
   "cell_type": "markdown",
   "id": "9b1561c4",
   "metadata": {},
   "source": [
    "#### Adding multiple Phrases in the Spacy as a Product, or country\n",
    ". For this purpose we use the Phrasematch for his purpose"
   ]
  },
  {
   "cell_type": "code",
   "execution_count": 47,
   "id": "253ddeec",
   "metadata": {},
   "outputs": [],
   "source": [
    "from spacy.matcher import PhraseMatcher"
   ]
  },
  {
   "cell_type": "code",
   "execution_count": 48,
   "id": "514c47ee",
   "metadata": {},
   "outputs": [],
   "source": [
    "import spacy"
   ]
  },
  {
   "cell_type": "code",
   "execution_count": 49,
   "id": "8898a253",
   "metadata": {},
   "outputs": [],
   "source": [
    "nlp=spacy.load(\"en_core_web_sm\")"
   ]
  },
  {
   "cell_type": "code",
   "execution_count": 50,
   "id": "7f4fc2e3",
   "metadata": {},
   "outputs": [],
   "source": [
    "doc=nlp(u\"Our company creted brand new vacuum cleaner.\"\n",
    "        u\"This new vacuum-cleaner is best in show\")"
   ]
  },
  {
   "cell_type": "code",
   "execution_count": 51,
   "id": "e0f4e7f9",
   "metadata": {},
   "outputs": [],
   "source": [
    "phrase_list=[\"vacuum cleaner\",\"vacuum-cleaner\"]"
   ]
  },
  {
   "cell_type": "code",
   "execution_count": 52,
   "id": "48980c60",
   "metadata": {},
   "outputs": [],
   "source": [
    "matcher=PhraseMatcher(nlp.vocab)"
   ]
  },
  {
   "cell_type": "code",
   "execution_count": 53,
   "id": "ce143980",
   "metadata": {},
   "outputs": [],
   "source": [
    "phrase_matchl=[nlp(phrase) for phrase in phrase_list]"
   ]
  },
  {
   "cell_type": "code",
   "execution_count": 54,
   "id": "1cd99c19",
   "metadata": {},
   "outputs": [],
   "source": [
    "matcher.add(\"newproduct\",None,*phrase_matchl)"
   ]
  },
  {
   "cell_type": "code",
   "execution_count": 55,
   "id": "4f695d27",
   "metadata": {},
   "outputs": [],
   "source": [
    "natch_found=matcher(doc )"
   ]
  },
  {
   "cell_type": "code",
   "execution_count": 56,
   "id": "1fd2840f",
   "metadata": {},
   "outputs": [
    {
     "name": "stdout",
     "output_type": "stream",
     "text": [
      "[(2689272359382549672, 5, 7), (2689272359382549672, 10, 13)]\n"
     ]
    }
   ],
   "source": [
    "print(natch_found)"
   ]
  },
  {
   "cell_type": "code",
   "execution_count": 57,
   "id": "80eb4a19",
   "metadata": {},
   "outputs": [],
   "source": [
    "from spacy.tokens import Span"
   ]
  },
  {
   "cell_type": "code",
   "execution_count": 58,
   "id": "4990546e",
   "metadata": {},
   "outputs": [],
   "source": [
    "PROD=nlp.vocab.strings[u\"PRODUCT\"]"
   ]
  },
  {
   "cell_type": "code",
   "execution_count": 59,
   "id": "4368e8a6",
   "metadata": {},
   "outputs": [],
   "source": [
    "new_ent=[Span(doc,match[1], match[2],label=PROD) for match in natch_found]"
   ]
  },
  {
   "cell_type": "code",
   "execution_count": 60,
   "id": "c98fb507",
   "metadata": {},
   "outputs": [],
   "source": [
    "doc.ents=list(doc.ents)+new_ent"
   ]
  },
  {
   "cell_type": "code",
   "execution_count": 61,
   "id": "d4d6934b",
   "metadata": {},
   "outputs": [
    {
     "data": {
      "text/plain": [
       "[vacuum cleaner, vacuum-cleaner]"
      ]
     },
     "execution_count": 61,
     "metadata": {},
     "output_type": "execute_result"
    }
   ],
   "source": [
    "new_ent"
   ]
  },
  {
   "cell_type": "code",
   "execution_count": null,
   "id": "58662d93",
   "metadata": {},
   "outputs": [],
   "source": []
  },
  {
   "cell_type": "code",
   "execution_count": 62,
   "id": "73914b7c",
   "metadata": {},
   "outputs": [],
   "source": [
    "def show_ent(doc):\n",
    "    if doc.ents:\n",
    "        for ent in doc.ents:\n",
    "            print(f\"{ent.text:{20}}{ent.label_:{10}}{str(spacy.explain(ent.label_))}\")\n",
    "    else:\n",
    "        print(\"No Entity Find in the Document\")"
   ]
  },
  {
   "cell_type": "code",
   "execution_count": 63,
   "id": "f59e578a",
   "metadata": {},
   "outputs": [
    {
     "name": "stdout",
     "output_type": "stream",
     "text": [
      "vacuum cleaner      PRODUCT   Objects, vehicles, foods, etc. (not services)\n",
      "vacuum-cleaner      PRODUCT   Objects, vehicles, foods, etc. (not services)\n"
     ]
    }
   ],
   "source": [
    "show_ent(doc)"
   ]
  },
  {
   "cell_type": "code",
   "execution_count": 67,
   "id": "ac40b96d",
   "metadata": {},
   "outputs": [
    {
     "data": {
      "text/plain": [
       "2"
      ]
     },
     "execution_count": 67,
     "metadata": {},
     "output_type": "execute_result"
    }
   ],
   "source": [
    "len([ent for ent in doc.ents if ent.label_==\"PRODUCT\"])"
   ]
  },
  {
   "cell_type": "markdown",
   "id": "b955c66e",
   "metadata": {},
   "source": [
    " ### Visualization of the NER"
   ]
  },
  {
   "cell_type": "code",
   "execution_count": 68,
   "id": "3a8e8980",
   "metadata": {},
   "outputs": [],
   "source": [
    "from spacy import displacy"
   ]
  },
  {
   "cell_type": "code",
   "execution_count": 72,
   "id": "a4ba5a97",
   "metadata": {},
   "outputs": [],
   "source": [
    "doc=nlp(u\"Over the last quarter Apple sold nearly 20 thousend iPods for profit of $6 millions.\"\n",
    "       u\"By contrast Sony sold only 8 thousend music players\")"
   ]
  },
  {
   "cell_type": "code",
   "execution_count": 73,
   "id": "567085a9",
   "metadata": {},
   "outputs": [
    {
     "data": {
      "text/html": [
       "<div class=\"entities\" style=\"line-height: 2.5\">Over \n",
       "<mark class=\"entity\" style=\"background: #bfe1d9; padding: 0.45em 0.6em; margin: 0 0.25em; line-height: 1; border-radius: 0.35em; box-decoration-break: clone; -webkit-box-decoration-break: clone\">\n",
       "    the last quarter\n",
       "    <span style=\"font-size: 0.8em; font-weight: bold; line-height: 1; border-radius: 0.35em; text-transform: uppercase; vertical-align: middle; margin-left: 0.5rem\">DATE</span>\n",
       "</mark>\n",
       " \n",
       "<mark class=\"entity\" style=\"background: #7aecec; padding: 0.45em 0.6em; margin: 0 0.25em; line-height: 1; border-radius: 0.35em; box-decoration-break: clone; -webkit-box-decoration-break: clone\">\n",
       "    Apple\n",
       "    <span style=\"font-size: 0.8em; font-weight: bold; line-height: 1; border-radius: 0.35em; text-transform: uppercase; vertical-align: middle; margin-left: 0.5rem\">ORG</span>\n",
       "</mark>\n",
       " sold \n",
       "<mark class=\"entity\" style=\"background: #e4e7d2; padding: 0.45em 0.6em; margin: 0 0.25em; line-height: 1; border-radius: 0.35em; box-decoration-break: clone; -webkit-box-decoration-break: clone\">\n",
       "    nearly 20\n",
       "    <span style=\"font-size: 0.8em; font-weight: bold; line-height: 1; border-radius: 0.35em; text-transform: uppercase; vertical-align: middle; margin-left: 0.5rem\">CARDINAL</span>\n",
       "</mark>\n",
       " thousend \n",
       "<mark class=\"entity\" style=\"background: #bfeeb7; padding: 0.45em 0.6em; margin: 0 0.25em; line-height: 1; border-radius: 0.35em; box-decoration-break: clone; -webkit-box-decoration-break: clone\">\n",
       "    iPods\n",
       "    <span style=\"font-size: 0.8em; font-weight: bold; line-height: 1; border-radius: 0.35em; text-transform: uppercase; vertical-align: middle; margin-left: 0.5rem\">PRODUCT</span>\n",
       "</mark>\n",
       " for profit of \n",
       "<mark class=\"entity\" style=\"background: #e4e7d2; padding: 0.45em 0.6em; margin: 0 0.25em; line-height: 1; border-radius: 0.35em; box-decoration-break: clone; -webkit-box-decoration-break: clone\">\n",
       "    $6 millions\n",
       "    <span style=\"font-size: 0.8em; font-weight: bold; line-height: 1; border-radius: 0.35em; text-transform: uppercase; vertical-align: middle; margin-left: 0.5rem\">MONEY</span>\n",
       "</mark>\n",
       ".By contrast \n",
       "<mark class=\"entity\" style=\"background: #7aecec; padding: 0.45em 0.6em; margin: 0 0.25em; line-height: 1; border-radius: 0.35em; box-decoration-break: clone; -webkit-box-decoration-break: clone\">\n",
       "    Sony\n",
       "    <span style=\"font-size: 0.8em; font-weight: bold; line-height: 1; border-radius: 0.35em; text-transform: uppercase; vertical-align: middle; margin-left: 0.5rem\">ORG</span>\n",
       "</mark>\n",
       " sold \n",
       "<mark class=\"entity\" style=\"background: #e4e7d2; padding: 0.45em 0.6em; margin: 0 0.25em; line-height: 1; border-radius: 0.35em; box-decoration-break: clone; -webkit-box-decoration-break: clone\">\n",
       "    only 8\n",
       "    <span style=\"font-size: 0.8em; font-weight: bold; line-height: 1; border-radius: 0.35em; text-transform: uppercase; vertical-align: middle; margin-left: 0.5rem\">CARDINAL</span>\n",
       "</mark>\n",
       " thousend music players</div>"
      ],
      "text/plain": [
       "<IPython.core.display.HTML object>"
      ]
     },
     "metadata": {},
     "output_type": "display_data"
    }
   ],
   "source": [
    "displacy.render(doc,style='ent', jupyter=True)"
   ]
  },
  {
   "cell_type": "code",
   "execution_count": 74,
   "id": "84d17a66",
   "metadata": {},
   "outputs": [
    {
     "name": "stdout",
     "output_type": "stream",
     "text": [
      "\n",
      "\u001b[93m    Serving on port 5000...\u001b[0m\n",
      "    Using the 'dep' visualizer\n",
      "\n"
     ]
    },
    {
     "name": "stderr",
     "output_type": "stream",
     "text": [
      "127.0.0.1 - - [03/Jan/2022 19:45:30] \"GET / HTTP/1.1\" 200 18479\n"
     ]
    },
    {
     "name": "stdout",
     "output_type": "stream",
     "text": [
      "\n",
      "    Shutting down server on port 5000.\n",
      "\n"
     ]
    }
   ],
   "source": [
    "displacy.serve(doc)"
   ]
  },
  {
   "cell_type": "code",
   "execution_count": 76,
   "id": "83fa5231",
   "metadata": {},
   "outputs": [
    {
     "data": {
      "text/html": [
       "<div class=\"entities\" style=\"line-height: 2.5\">Over \n",
       "<mark class=\"entity\" style=\"background: #bfe1d9; padding: 0.45em 0.6em; margin: 0 0.25em; line-height: 1; border-radius: 0.35em; box-decoration-break: clone; -webkit-box-decoration-break: clone\">\n",
       "    the last quarter\n",
       "    <span style=\"font-size: 0.8em; font-weight: bold; line-height: 1; border-radius: 0.35em; text-transform: uppercase; vertical-align: middle; margin-left: 0.5rem\">DATE</span>\n",
       "</mark>\n",
       " \n",
       "<mark class=\"entity\" style=\"background: #7aecec; padding: 0.45em 0.6em; margin: 0 0.25em; line-height: 1; border-radius: 0.35em; box-decoration-break: clone; -webkit-box-decoration-break: clone\">\n",
       "    Apple\n",
       "    <span style=\"font-size: 0.8em; font-weight: bold; line-height: 1; border-radius: 0.35em; text-transform: uppercase; vertical-align: middle; margin-left: 0.5rem\">ORG</span>\n",
       "</mark>\n",
       " sold \n",
       "<mark class=\"entity\" style=\"background: #e4e7d2; padding: 0.45em 0.6em; margin: 0 0.25em; line-height: 1; border-radius: 0.35em; box-decoration-break: clone; -webkit-box-decoration-break: clone\">\n",
       "    nearly 20\n",
       "    <span style=\"font-size: 0.8em; font-weight: bold; line-height: 1; border-radius: 0.35em; text-transform: uppercase; vertical-align: middle; margin-left: 0.5rem\">CARDINAL</span>\n",
       "</mark>\n",
       " thousend \n",
       "<mark class=\"entity\" style=\"background: #bfeeb7; padding: 0.45em 0.6em; margin: 0 0.25em; line-height: 1; border-radius: 0.35em; box-decoration-break: clone; -webkit-box-decoration-break: clone\">\n",
       "    iPods\n",
       "    <span style=\"font-size: 0.8em; font-weight: bold; line-height: 1; border-radius: 0.35em; text-transform: uppercase; vertical-align: middle; margin-left: 0.5rem\">PRODUCT</span>\n",
       "</mark>\n",
       " for profit of \n",
       "<mark class=\"entity\" style=\"background: #e4e7d2; padding: 0.45em 0.6em; margin: 0 0.25em; line-height: 1; border-radius: 0.35em; box-decoration-break: clone; -webkit-box-decoration-break: clone\">\n",
       "    $6 millions\n",
       "    <span style=\"font-size: 0.8em; font-weight: bold; line-height: 1; border-radius: 0.35em; text-transform: uppercase; vertical-align: middle; margin-left: 0.5rem\">MONEY</span>\n",
       "</mark>\n",
       ".</div>"
      ],
      "text/plain": [
       "<IPython.core.display.HTML object>"
      ]
     },
     "metadata": {},
     "output_type": "display_data"
    },
    {
     "data": {
      "text/html": [
       "<div class=\"entities\" style=\"line-height: 2.5\">By contrast Sony sold only 8 thousend music players\n",
       "<mark class=\"entity\" style=\"background: #7aecec; padding: 0.45em 0.6em; margin: 0 0.25em; line-height: 1; border-radius: 0.35em; box-decoration-break: clone; -webkit-box-decoration-break: clone\">\n",
       "    \n",
       "    <span style=\"font-size: 0.8em; font-weight: bold; line-height: 1; border-radius: 0.35em; text-transform: uppercase; vertical-align: middle; margin-left: 0.5rem\">ORG</span>\n",
       "</mark>\n",
       "\n",
       "<mark class=\"entity\" style=\"background: #e4e7d2; padding: 0.45em 0.6em; margin: 0 0.25em; line-height: 1; border-radius: 0.35em; box-decoration-break: clone; -webkit-box-decoration-break: clone\">\n",
       "    \n",
       "    <span style=\"font-size: 0.8em; font-weight: bold; line-height: 1; border-radius: 0.35em; text-transform: uppercase; vertical-align: middle; margin-left: 0.5rem\">CARDINAL</span>\n",
       "</mark>\n",
       "</div>"
      ],
      "text/plain": [
       "<IPython.core.display.HTML object>"
      ]
     },
     "metadata": {},
     "output_type": "display_data"
    }
   ],
   "source": [
    "for sent in doc.sents:\n",
    "    displacy.render(sent,style='ent',jupyter=True)"
   ]
  },
  {
   "cell_type": "code",
   "execution_count": null,
   "id": "c480240c",
   "metadata": {},
   "outputs": [],
   "source": []
  }
 ],
 "metadata": {
  "kernelspec": {
   "display_name": "Python 3 (ipykernel)",
   "language": "python",
   "name": "python3"
  },
  "language_info": {
   "codemirror_mode": {
    "name": "ipython",
    "version": 3
   },
   "file_extension": ".py",
   "mimetype": "text/x-python",
   "name": "python",
   "nbconvert_exporter": "python",
   "pygments_lexer": "ipython3",
   "version": "3.7.11"
  }
 },
 "nbformat": 4,
 "nbformat_minor": 5
}

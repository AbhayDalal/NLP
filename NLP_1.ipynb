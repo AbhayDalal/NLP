{
 "cells": [
  {
   "cell_type": "code",
   "execution_count": 4,
   "id": "b4aae358",
   "metadata": {},
   "outputs": [
    {
     "name": "stdout",
     "output_type": "stream",
     "text": [
      "Writing file.txt\n"
     ]
    }
   ],
   "source": [
    "%%writefile file.txt\n",
    "This is the frist line of code\n",
    "this is secode line in the text file"
   ]
  },
  {
   "cell_type": "code",
   "execution_count": 6,
   "id": "9886171a",
   "metadata": {},
   "outputs": [],
   "source": [
    "file=open(\"E:\\\\UPDATED_NLP_COURSE\\\\Untitled Folder\\\\file.txt\")"
   ]
  },
  {
   "cell_type": "code",
   "execution_count": 7,
   "id": "1b5a4efc",
   "metadata": {},
   "outputs": [
    {
     "data": {
      "text/plain": [
       "'E:\\\\UPDATED_NLP_COURSE\\\\Untitled Folder'"
      ]
     },
     "execution_count": 7,
     "metadata": {},
     "output_type": "execute_result"
    }
   ],
   "source": [
    "pwd"
   ]
  },
  {
   "cell_type": "code",
   "execution_count": 8,
   "id": "047f60a9",
   "metadata": {},
   "outputs": [
    {
     "data": {
      "text/plain": [
       "<_io.TextIOWrapper name='E:\\\\UPDATED_NLP_COURSE\\\\Untitled Folder\\\\file.txt' mode='r' encoding='cp1252'>"
      ]
     },
     "execution_count": 8,
     "metadata": {},
     "output_type": "execute_result"
    }
   ],
   "source": [
    "file"
   ]
  },
  {
   "cell_type": "code",
   "execution_count": 9,
   "id": "926fa1e1",
   "metadata": {},
   "outputs": [
    {
     "data": {
      "text/plain": [
       "'This is the frist line of code\\nthis is secode line in the text file\\n'"
      ]
     },
     "execution_count": 9,
     "metadata": {},
     "output_type": "execute_result"
    }
   ],
   "source": [
    "file.read()"
   ]
  },
  {
   "cell_type": "code",
   "execution_count": 10,
   "id": "d95832d9",
   "metadata": {},
   "outputs": [
    {
     "data": {
      "text/plain": [
       "''"
      ]
     },
     "execution_count": 10,
     "metadata": {},
     "output_type": "execute_result"
    }
   ],
   "source": [
    "file.read()"
   ]
  },
  {
   "cell_type": "code",
   "execution_count": 11,
   "id": "a2b0518c",
   "metadata": {},
   "outputs": [
    {
     "data": {
      "text/plain": [
       "0"
      ]
     },
     "execution_count": 11,
     "metadata": {},
     "output_type": "execute_result"
    }
   ],
   "source": [
    "file.seek(0)"
   ]
  },
  {
   "cell_type": "code",
   "execution_count": 12,
   "id": "abbfdbbf",
   "metadata": {},
   "outputs": [
    {
     "data": {
      "text/plain": [
       "'This is the frist line of code\\nthis is secode line in the text file\\n'"
      ]
     },
     "execution_count": 12,
     "metadata": {},
     "output_type": "execute_result"
    }
   ],
   "source": [
    "file.read()"
   ]
  },
  {
   "cell_type": "code",
   "execution_count": 13,
   "id": "78bc5a9f",
   "metadata": {},
   "outputs": [
    {
     "data": {
      "text/plain": [
       "1"
      ]
     },
     "execution_count": 13,
     "metadata": {},
     "output_type": "execute_result"
    }
   ],
   "source": [
    "file.seek(1)"
   ]
  },
  {
   "cell_type": "code",
   "execution_count": 14,
   "id": "3399e473",
   "metadata": {},
   "outputs": [
    {
     "data": {
      "text/plain": [
       "'his is the frist line of code\\nthis is secode line in the text file\\n'"
      ]
     },
     "execution_count": 14,
     "metadata": {},
     "output_type": "execute_result"
    }
   ],
   "source": [
    "file.read()"
   ]
  },
  {
   "cell_type": "code",
   "execution_count": 19,
   "id": "063a97c1",
   "metadata": {},
   "outputs": [
    {
     "data": {
      "text/plain": [
       "0"
      ]
     },
     "execution_count": 19,
     "metadata": {},
     "output_type": "execute_result"
    }
   ],
   "source": [
    "file.seek(0)"
   ]
  },
  {
   "cell_type": "code",
   "execution_count": 20,
   "id": "32777178",
   "metadata": {},
   "outputs": [
    {
     "name": "stdout",
     "output_type": "stream",
     "text": [
      "This is the frist line of code\n",
      "this is secode line in the text file\n",
      "\n"
     ]
    }
   ],
   "source": [
    "co=file.read()\n",
    "print(co)"
   ]
  },
  {
   "cell_type": "code",
   "execution_count": 27,
   "id": "9b204f94",
   "metadata": {},
   "outputs": [
    {
     "data": {
      "text/plain": [
       "0"
      ]
     },
     "execution_count": 27,
     "metadata": {},
     "output_type": "execute_result"
    }
   ],
   "source": [
    "file.seek(0)"
   ]
  },
  {
   "cell_type": "code",
   "execution_count": 28,
   "id": "cc887888",
   "metadata": {},
   "outputs": [],
   "source": [
    "file_line=file.readlines()"
   ]
  },
  {
   "cell_type": "code",
   "execution_count": 29,
   "id": "623e9d47",
   "metadata": {},
   "outputs": [
    {
     "name": "stdout",
     "output_type": "stream",
     "text": [
      "This is the frist line of code\n",
      "\n",
      "this is secode line in the text file\n",
      "\n"
     ]
    }
   ],
   "source": [
    "for line in file_line:\n",
    "    print(line)"
   ]
  },
  {
   "cell_type": "code",
   "execution_count": 30,
   "id": "78e36a1f",
   "metadata": {},
   "outputs": [],
   "source": [
    "myfile=open('file.txt', 'w+')"
   ]
  },
  {
   "cell_type": "code",
   "execution_count": 31,
   "id": "73a5d849",
   "metadata": {},
   "outputs": [
    {
     "data": {
      "text/plain": [
       "''"
      ]
     },
     "execution_count": 31,
     "metadata": {},
     "output_type": "execute_result"
    }
   ],
   "source": [
    "myfile.read()"
   ]
  },
  {
   "cell_type": "code",
   "execution_count": 32,
   "id": "6faf5d9c",
   "metadata": {},
   "outputs": [
    {
     "data": {
      "text/plain": [
       "30"
      ]
     },
     "execution_count": 32,
     "metadata": {},
     "output_type": "execute_result"
    }
   ],
   "source": [
    "myfile.write(\"this is new line added in this\")"
   ]
  },
  {
   "cell_type": "code",
   "execution_count": 33,
   "id": "ebb39489",
   "metadata": {},
   "outputs": [
    {
     "data": {
      "text/plain": [
       "0"
      ]
     },
     "execution_count": 33,
     "metadata": {},
     "output_type": "execute_result"
    }
   ],
   "source": [
    "myfile.seek(0)"
   ]
  },
  {
   "cell_type": "code",
   "execution_count": 34,
   "id": "7bb998cc",
   "metadata": {},
   "outputs": [
    {
     "data": {
      "text/plain": [
       "['this is new line added in this']"
      ]
     },
     "execution_count": 34,
     "metadata": {},
     "output_type": "execute_result"
    }
   ],
   "source": [
    "myfile .readlines()"
   ]
  },
  {
   "cell_type": "code",
   "execution_count": 35,
   "id": "997af26a",
   "metadata": {},
   "outputs": [],
   "source": [
    "myfile.close()"
   ]
  },
  {
   "cell_type": "code",
   "execution_count": 55,
   "id": "0f15e3c6",
   "metadata": {},
   "outputs": [],
   "source": [
    "myfile=open(\"file.txt\",'a+')"
   ]
  },
  {
   "cell_type": "code",
   "execution_count": 56,
   "id": "45d9b6bb",
   "metadata": {},
   "outputs": [
    {
     "data": {
      "text/plain": [
       "47"
      ]
     },
     "execution_count": 56,
     "metadata": {},
     "output_type": "execute_result"
    }
   ],
   "source": [
    "myfile.write(\"\\n this is the neeccnescc and the finel 33333333\")"
   ]
  },
  {
   "cell_type": "code",
   "execution_count": 57,
   "id": "28fa810b",
   "metadata": {},
   "outputs": [],
   "source": [
    "myfile.close()"
   ]
  },
  {
   "cell_type": "code",
   "execution_count": 58,
   "id": "4c558193",
   "metadata": {},
   "outputs": [],
   "source": [
    "a=open(\"file.txt\",'r')"
   ]
  },
  {
   "cell_type": "code",
   "execution_count": 59,
   "id": "abdaddd5",
   "metadata": {},
   "outputs": [
    {
     "data": {
      "text/plain": [
       "['this is new line added in thisthis is the neecccc\\n',\n",
       " 'this is the neeccnescc and the finel\\n',\n",
       " ' this is the neeccnescc and the finel 33333333']"
      ]
     },
     "execution_count": 59,
     "metadata": {},
     "output_type": "execute_result"
    }
   ],
   "source": [
    "a.readlines()"
   ]
  },
  {
   "cell_type": "code",
   "execution_count": 60,
   "id": "09d32666",
   "metadata": {},
   "outputs": [],
   "source": [
    "with open(\"file.txt\",'r') as myfile:\n",
    "    myline=myfile.readlines()"
   ]
  },
  {
   "cell_type": "code",
   "execution_count": 61,
   "id": "c7f4b9ae",
   "metadata": {},
   "outputs": [
    {
     "data": {
      "text/plain": [
       "['this is new line added in thisthis is the neecccc\\n',\n",
       " 'this is the neeccnescc and the finel\\n',\n",
       " ' this is the neeccnescc and the finel 33333333']"
      ]
     },
     "execution_count": 61,
     "metadata": {},
     "output_type": "execute_result"
    }
   ],
   "source": [
    "myline"
   ]
  },
  {
   "cell_type": "code",
   "execution_count": 62,
   "id": "fb478986",
   "metadata": {},
   "outputs": [],
   "source": [
    "myfile.close()"
   ]
  },
  {
   "cell_type": "code",
   "execution_count": null,
   "id": "f3a522e5",
   "metadata": {},
   "outputs": [],
   "source": []
  }
 ],
 "metadata": {
  "kernelspec": {
   "display_name": "Python 3 (ipykernel)",
   "language": "python",
   "name": "python3"
  },
  "language_info": {
   "codemirror_mode": {
    "name": "ipython",
    "version": 3
   },
   "file_extension": ".py",
   "mimetype": "text/x-python",
   "name": "python",
   "nbconvert_exporter": "python",
   "pygments_lexer": "ipython3",
   "version": "3.7.11"
  }
 },
 "nbformat": 4,
 "nbformat_minor": 5
}

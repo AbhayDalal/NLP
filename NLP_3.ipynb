{
 "cells": [
  {
   "cell_type": "code",
   "execution_count": 1,
   "id": "39f5351d",
   "metadata": {},
   "outputs": [],
   "source": [
    "import re"
   ]
  },
  {
   "cell_type": "code",
   "execution_count": 2,
   "id": "5a7d94d4",
   "metadata": {},
   "outputs": [],
   "source": [
    "text= \" the phone number of the agent is 480-555-1234 will call you soon\""
   ]
  },
  {
   "cell_type": "code",
   "execution_count": 3,
   "id": "b741c326",
   "metadata": {},
   "outputs": [
    {
     "data": {
      "text/plain": [
       "True"
      ]
     },
     "execution_count": 3,
     "metadata": {},
     "output_type": "execute_result"
    }
   ],
   "source": [
    "\" 480-555-1234\" in text"
   ]
  },
  {
   "cell_type": "code",
   "execution_count": 4,
   "id": "1dee93ff",
   "metadata": {},
   "outputs": [
    {
     "data": {
      "text/plain": [
       "<re.Match object; span=(5, 10), match='phone'>"
      ]
     },
     "execution_count": 4,
     "metadata": {},
     "output_type": "execute_result"
    }
   ],
   "source": [
    "pattern=\"phone\"\n",
    "re.search(pattern,text)"
   ]
  },
  {
   "cell_type": "code",
   "execution_count": 5,
   "id": "e948e33c",
   "metadata": {},
   "outputs": [],
   "source": [
    "my_match=re.search(pattern,text)"
   ]
  },
  {
   "cell_type": "code",
   "execution_count": 11,
   "id": "7543723d",
   "metadata": {},
   "outputs": [
    {
     "data": {
      "text/plain": [
       "(5, 10)"
      ]
     },
     "execution_count": 11,
     "metadata": {},
     "output_type": "execute_result"
    }
   ],
   "source": [
    "my_match.span()"
   ]
  },
  {
   "cell_type": "code",
   "execution_count": 12,
   "id": "718d92f0",
   "metadata": {},
   "outputs": [],
   "source": [
    "text=\"my phone is new phone\""
   ]
  },
  {
   "cell_type": "code",
   "execution_count": 15,
   "id": "71417a68",
   "metadata": {},
   "outputs": [],
   "source": [
    "match=re.search(pattern, text)"
   ]
  },
  {
   "cell_type": "code",
   "execution_count": 16,
   "id": "500deeb5",
   "metadata": {},
   "outputs": [
    {
     "data": {
      "text/plain": [
       "(3, 8)"
      ]
     },
     "execution_count": 16,
     "metadata": {},
     "output_type": "execute_result"
    }
   ],
   "source": [
    "match.span()"
   ]
  },
  {
   "cell_type": "code",
   "execution_count": 17,
   "id": "7cd4271c",
   "metadata": {},
   "outputs": [
    {
     "data": {
      "text/plain": [
       "3"
      ]
     },
     "execution_count": 17,
     "metadata": {},
     "output_type": "execute_result"
    }
   ],
   "source": [
    "match.start()"
   ]
  },
  {
   "cell_type": "code",
   "execution_count": 18,
   "id": "5d22b528",
   "metadata": {},
   "outputs": [
    {
     "data": {
      "text/plain": [
       "8"
      ]
     },
     "execution_count": 18,
     "metadata": {},
     "output_type": "execute_result"
    }
   ],
   "source": [
    "match.end()"
   ]
  },
  {
   "cell_type": "code",
   "execution_count": 19,
   "id": "1175f741",
   "metadata": {},
   "outputs": [],
   "source": [
    "all_match=re.findall(pattern,text)"
   ]
  },
  {
   "cell_type": "code",
   "execution_count": 20,
   "id": "53759b67",
   "metadata": {},
   "outputs": [
    {
     "data": {
      "text/plain": [
       "['phone', 'phone']"
      ]
     },
     "execution_count": 20,
     "metadata": {},
     "output_type": "execute_result"
    }
   ],
   "source": [
    "all_match"
   ]
  },
  {
   "cell_type": "code",
   "execution_count": 26,
   "id": "0ec35495",
   "metadata": {},
   "outputs": [
    {
     "data": {
      "text/plain": [
       "<function list.index(value, start=0, stop=9223372036854775807, /)>"
      ]
     },
     "execution_count": 26,
     "metadata": {},
     "output_type": "execute_result"
    }
   ],
   "source": [
    "all_match.index"
   ]
  },
  {
   "cell_type": "code",
   "execution_count": 27,
   "id": "53f0a402",
   "metadata": {},
   "outputs": [
    {
     "name": "stdout",
     "output_type": "stream",
     "text": [
      "(3, 8)\n",
      "(16, 21)\n"
     ]
    }
   ],
   "source": [
    "for e in re.finditer(pattern,text):\n",
    "    print(e.span())"
   ]
  },
  {
   "cell_type": "code",
   "execution_count": null,
   "id": "c20a56df",
   "metadata": {},
   "outputs": [],
   "source": []
  },
  {
   "cell_type": "code",
   "execution_count": null,
   "id": "7e613820",
   "metadata": {},
   "outputs": [],
   "source": []
  },
  {
   "cell_type": "code",
   "execution_count": 3,
   "id": "582870c9",
   "metadata": {},
   "outputs": [],
   "source": [
    "import re\n",
    "text = \"My telephone number is 408-555-1234\""
   ]
  },
  {
   "cell_type": "code",
   "execution_count": 4,
   "id": "1761d75b",
   "metadata": {},
   "outputs": [
    {
     "data": {
      "text/plain": [
       "<re.Match object; span=(23, 35), match='408-555-1234'>"
      ]
     },
     "execution_count": 4,
     "metadata": {},
     "output_type": "execute_result"
    }
   ],
   "source": [
    "re.search(r'\\d{3}-\\d{3}-\\d{4}',text)"
   ]
  },
  {
   "cell_type": "code",
   "execution_count": 9,
   "id": "9520a75a",
   "metadata": {},
   "outputs": [],
   "source": [
    "phone_patern=re.compile(r'(\\d{3})-(\\d{3})-(\\d{4})')"
   ]
  },
  {
   "cell_type": "code",
   "execution_count": 10,
   "id": "dec7d9d3",
   "metadata": {},
   "outputs": [],
   "source": [
    "result=re.search(phone_patern,text)"
   ]
  },
  {
   "cell_type": "code",
   "execution_count": 12,
   "id": "d8f92df3",
   "metadata": {},
   "outputs": [
    {
     "data": {
      "text/plain": [
       "'408-555-1234'"
      ]
     },
     "execution_count": 12,
     "metadata": {},
     "output_type": "execute_result"
    }
   ],
   "source": [
    "result.group()"
   ]
  },
  {
   "cell_type": "code",
   "execution_count": 13,
   "id": "326643e6",
   "metadata": {},
   "outputs": [
    {
     "data": {
      "text/plain": [
       "'408'"
      ]
     },
     "execution_count": 13,
     "metadata": {},
     "output_type": "execute_result"
    }
   ],
   "source": [
    "result.group(1)"
   ]
  },
  {
   "cell_type": "code",
   "execution_count": 14,
   "id": "4fe8428f",
   "metadata": {},
   "outputs": [
    {
     "data": {
      "text/plain": [
       "'555'"
      ]
     },
     "execution_count": 14,
     "metadata": {},
     "output_type": "execute_result"
    }
   ],
   "source": [
    "result.group(2)"
   ]
  },
  {
   "cell_type": "markdown",
   "id": "f2437d32",
   "metadata": {},
   "source": [
    "### Or operator used in the reguler expression"
   ]
  },
  {
   "cell_type": "code",
   "execution_count": 17,
   "id": "1e496f14",
   "metadata": {},
   "outputs": [],
   "source": [
    "m=re.search(r\"man| women\", \" this man was there.\")"
   ]
  },
  {
   "cell_type": "code",
   "execution_count": 20,
   "id": "3f82a6d5",
   "metadata": {},
   "outputs": [
    {
     "data": {
      "text/plain": [
       "'man'"
      ]
     },
     "execution_count": 20,
     "metadata": {},
     "output_type": "execute_result"
    }
   ],
   "source": [
    "m.group()"
   ]
  },
  {
   "cell_type": "code",
   "execution_count": 21,
   "id": "782d8f0d",
   "metadata": {},
   "outputs": [
    {
     "data": {
      "text/plain": [
       "['cat', 'hat', 'sat']"
      ]
     },
     "execution_count": 21,
     "metadata": {},
     "output_type": "execute_result"
    }
   ],
   "source": [
    "re.findall(r\".at\",\"The cat in the hat sat here.\")"
   ]
  },
  {
   "cell_type": "code",
   "execution_count": 24,
   "id": "28fa4026",
   "metadata": {},
   "outputs": [
    {
     "data": {
      "text/plain": [
       "['e bat', 'splat']"
      ]
     },
     "execution_count": 24,
     "metadata": {},
     "output_type": "execute_result"
    }
   ],
   "source": [
    "re.findall(r\"...at\",\"The bat went splat\")"
   ]
  },
  {
   "cell_type": "code",
   "execution_count": 25,
   "id": "3269e0dd",
   "metadata": {},
   "outputs": [
    {
     "data": {
      "text/plain": [
       "['bat', 'splat']"
      ]
     },
     "execution_count": 25,
     "metadata": {},
     "output_type": "execute_result"
    }
   ],
   "source": [
    "re.findall(r\"\\S+at\",\"The bat went splat\")"
   ]
  },
  {
   "cell_type": "markdown",
   "id": "92e843c8",
   "metadata": {},
   "source": [
    "### Start and ends with\n",
    "\n",
    "we can use the ^ to signal start with, and the $  to signal end with "
   ]
  },
  {
   "cell_type": "code",
   "execution_count": 28,
   "id": "08856a20",
   "metadata": {},
   "outputs": [
    {
     "data": {
      "text/plain": [
       "['2']"
      ]
     },
     "execution_count": 28,
     "metadata": {},
     "output_type": "execute_result"
    }
   ],
   "source": [
    "re.findall(r\"\\d$\",\" This ends with the number2\")"
   ]
  },
  {
   "cell_type": "code",
   "execution_count": 29,
   "id": "91d96a5f",
   "metadata": {},
   "outputs": [
    {
     "data": {
      "text/plain": [
       "['2']"
      ]
     },
     "execution_count": 29,
     "metadata": {},
     "output_type": "execute_result"
    }
   ],
   "source": [
    "re.findall(r\"\\d$\",\" This ends with the number 2\")"
   ]
  },
  {
   "cell_type": "code",
   "execution_count": 34,
   "id": "5ab8a9d9",
   "metadata": {},
   "outputs": [
    {
     "data": {
      "text/plain": [
       "['2']"
      ]
     },
     "execution_count": 34,
     "metadata": {},
     "output_type": "execute_result"
    }
   ],
   "source": [
    "re.findall(r\"^\\d\",\"2 This ends with the number\")"
   ]
  },
  {
   "cell_type": "code",
   "execution_count": null,
   "id": "26c13c0a",
   "metadata": {},
   "outputs": [],
   "source": []
  }
 ],
 "metadata": {
  "kernelspec": {
   "display_name": "Python 3 (ipykernel)",
   "language": "python",
   "name": "python3"
  },
  "language_info": {
   "codemirror_mode": {
    "name": "ipython",
    "version": 3
   },
   "file_extension": ".py",
   "mimetype": "text/x-python",
   "name": "python",
   "nbconvert_exporter": "python",
   "pygments_lexer": "ipython3",
   "version": "3.7.11"
  }
 },
 "nbformat": 4,
 "nbformat_minor": 5
}

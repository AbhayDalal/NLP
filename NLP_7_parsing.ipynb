{
 "cells": [
  {
   "cell_type": "code",
   "execution_count": 1,
   "id": "8bd6c84b",
   "metadata": {},
   "outputs": [],
   "source": [
    "import spacy"
   ]
  },
  {
   "cell_type": "code",
   "execution_count": 2,
   "id": "d2c2bd0e",
   "metadata": {},
   "outputs": [],
   "source": [
    "nlp=spacy.load(\"en_core_web_sm\")"
   ]
  },
  {
   "cell_type": "code",
   "execution_count": 3,
   "id": "7e3b7f0b",
   "metadata": {},
   "outputs": [],
   "source": [
    "from spacy.matcher import Matcher"
   ]
  },
  {
   "cell_type": "code",
   "execution_count": 4,
   "id": "6820e4fe",
   "metadata": {},
   "outputs": [],
   "source": [
    "matcher=Matcher(nlp.vocab)"
   ]
  },
  {
   "cell_type": "code",
   "execution_count": 5,
   "id": "20d8253d",
   "metadata": {},
   "outputs": [],
   "source": [
    "# # match the pattern SolarPower\n",
    "# pattern1=[{'LOWER':'solarpower'}]\n",
    "# # match the pattern Solar-Power\n",
    "# pattern2=[{\"LOWER\":\"solar\"},{\"IS_PUNCT\":True},{\"LOWER\":\"power\"}]\n",
    "# # match the pattern Solar Power\n",
    "# pattern3=[{\"LOWER\":\"solar\"},{\"LOWER\":\"power\"}]\n",
    "\n",
    "pattern1 = [{'LOWER': 'solarpower'}]\n",
    "pattern2 = [{'LOWER': 'solar'}, {'LOWER': 'power'}]\n",
    "pattern3 = [{'LOWER': 'solar'}, {'IS_PUNCT': True}, {'LOWER': 'power'}]\n",
    "\n",
    "\n",
    "\n",
    "# matcher.add('SolarPower', None, pattern1, pattern2, pattern3)"
   ]
  },
  {
   "cell_type": "code",
   "execution_count": 6,
   "id": "1e0d7280",
   "metadata": {},
   "outputs": [],
   "source": [
    "matcher.add(\"SolarPower\", None, pattern1, pattern2, pattern3)"
   ]
  },
  {
   "cell_type": "code",
   "execution_count": 7,
   "id": "f268cb23",
   "metadata": {},
   "outputs": [],
   "source": [
    "doc = nlp(u'The Solar Power industry continues to grow as demand \\\n",
    "for solarpower increases. Solar-power cars are gaining popularity.')"
   ]
  },
  {
   "cell_type": "code",
   "execution_count": 8,
   "id": "e3012430",
   "metadata": {},
   "outputs": [
    {
     "name": "stdout",
     "output_type": "stream",
     "text": [
      "[(8656102463236116519, 1, 3), (8656102463236116519, 10, 11), (8656102463236116519, 13, 16)]\n"
     ]
    }
   ],
   "source": [
    "found_match=matcher(doc)\n",
    "print(found_match)"
   ]
  },
  {
   "cell_type": "code",
   "execution_count": null,
   "id": "5eac220a",
   "metadata": {},
   "outputs": [],
   "source": []
  },
  {
   "cell_type": "code",
   "execution_count": 9,
   "id": "4bddc8df",
   "metadata": {},
   "outputs": [],
   "source": [
    "import spacy"
   ]
  },
  {
   "cell_type": "code",
   "execution_count": 10,
   "id": "7ff8f070",
   "metadata": {},
   "outputs": [],
   "source": [
    "nlp=spacy.load(\"en_core_web_sm\")"
   ]
  },
  {
   "cell_type": "code",
   "execution_count": 11,
   "id": "6c84db42",
   "metadata": {},
   "outputs": [],
   "source": [
    "from spacy.matcher import Matcher"
   ]
  },
  {
   "cell_type": "code",
   "execution_count": 12,
   "id": "9cde905d",
   "metadata": {},
   "outputs": [],
   "source": [
    "matcher=Matcher(nlp.vocab)"
   ]
  },
  {
   "cell_type": "code",
   "execution_count": 13,
   "id": "19efaf04",
   "metadata": {},
   "outputs": [],
   "source": [
    "doc=nlp(u\"this is the solar power device , which convert solarpower into electricity, solar-power is the renewable sourse of energy\")"
   ]
  },
  {
   "cell_type": "code",
   "execution_count": 14,
   "id": "570b2a55",
   "metadata": {},
   "outputs": [],
   "source": [
    "pattern1=[{'LOWER':'solarpower'}]\n",
    "pattern2=[{'LOWER':'solar'},{'LOWER':'power'}]\n",
    "pattern3=[{'LOWER':'solar'},{'IS_PUNCT':True},{'LOWER':'power'}]"
   ]
  },
  {
   "cell_type": "code",
   "execution_count": 15,
   "id": "3b50137e",
   "metadata": {},
   "outputs": [],
   "source": [
    "matcher.add('SolarPower',None, pattern1, pattern2, pattern3)"
   ]
  },
  {
   "cell_type": "code",
   "execution_count": 16,
   "id": "9bb78b5b",
   "metadata": {},
   "outputs": [],
   "source": [
    "found_match=matcher(doc)"
   ]
  },
  {
   "cell_type": "code",
   "execution_count": 17,
   "id": "33492e1e",
   "metadata": {},
   "outputs": [
    {
     "name": "stdout",
     "output_type": "stream",
     "text": [
      "[(8656102463236116519, 3, 5), (8656102463236116519, 9, 10), (8656102463236116519, 13, 16)]\n"
     ]
    }
   ],
   "source": [
    "print(found_match)"
   ]
  },
  {
   "cell_type": "code",
   "execution_count": 18,
   "id": "8d4b6704",
   "metadata": {},
   "outputs": [
    {
     "name": "stdout",
     "output_type": "stream",
     "text": [
      "8656102463236116519 SolarPower solar power 3 5\n",
      "8656102463236116519 SolarPower solarpower 9 10\n",
      "8656102463236116519 SolarPower solar-power 13 16\n"
     ]
    }
   ],
   "source": [
    "for matcher_id, start, end in found_match:\n",
    "    string_id=nlp.vocab.strings[matcher_id]\n",
    "    span=doc[start:end]\n",
    "    wor=span.text\n",
    "    print(matcher_id, string_id, wor , start,end)"
   ]
  },
  {
   "cell_type": "code",
   "execution_count": 19,
   "id": "e328a164",
   "metadata": {},
   "outputs": [],
   "source": [
    "matcher.remove('SolarPower')"
   ]
  },
  {
   "cell_type": "code",
   "execution_count": 20,
   "id": "051c173a",
   "metadata": {},
   "outputs": [],
   "source": [
    "matc_found=matcher(doc)"
   ]
  },
  {
   "cell_type": "code",
   "execution_count": 21,
   "id": "d4354878",
   "metadata": {},
   "outputs": [
    {
     "name": "stdout",
     "output_type": "stream",
     "text": [
      "[]\n"
     ]
    }
   ],
   "source": [
    "print(matc_found)"
   ]
  },
  {
   "cell_type": "code",
   "execution_count": 22,
   "id": "4a289b4b",
   "metadata": {},
   "outputs": [],
   "source": [
    "pattern1=[{\"LOWER\":\"Solarpower\"}]\n",
    "pattern2=[{\"LOWER\":\"solar\"},{\"IS_PINCT\": True,\"OP\":\"*\"},{\"LOWER\":\"power\"}]"
   ]
  },
  {
   "cell_type": "code",
   "execution_count": 23,
   "id": "1d4d5182",
   "metadata": {},
   "outputs": [],
   "source": [
    "matcher.add(\"solarpower\", None,pattern1, pattern2)"
   ]
  },
  {
   "cell_type": "code",
   "execution_count": 24,
   "id": "bba4fee2",
   "metadata": {},
   "outputs": [],
   "source": [
    "doc1=nlp(u\"this is thr testing for solar--power\")"
   ]
  },
  {
   "cell_type": "code",
   "execution_count": 25,
   "id": "0d8d1580",
   "metadata": {},
   "outputs": [],
   "source": [
    "matc_f=matcher(doc1)"
   ]
  },
  {
   "cell_type": "code",
   "execution_count": 26,
   "id": "a9a7fcdd",
   "metadata": {},
   "outputs": [
    {
     "name": "stdout",
     "output_type": "stream",
     "text": [
      "[(10088085157581515080, 5, 6)]\n"
     ]
    }
   ],
   "source": [
    "print(matc_f)"
   ]
  },
  {
   "cell_type": "code",
   "execution_count": 27,
   "id": "9f93e22c",
   "metadata": {},
   "outputs": [
    {
     "name": "stdout",
     "output_type": "stream",
     "text": [
      "SolarPower solar\n"
     ]
    }
   ],
   "source": [
    "for matcher_id, start, stop in matc_f:\n",
    "#     string_id= nlp.vocab.strings[matcher_id]\n",
    "    span=doc1[start:stop]\n",
    "    wor=span.text\n",
    "    print(string_id, wor)"
   ]
  },
  {
   "cell_type": "markdown",
   "id": "53bb9a44",
   "metadata": {},
   "source": [
    "### phrase matching"
   ]
  },
  {
   "cell_type": "code",
   "execution_count": 28,
   "id": "602e8f52",
   "metadata": {},
   "outputs": [],
   "source": [
    "from spacy.matcher import PhraseMatcher"
   ]
  },
  {
   "cell_type": "code",
   "execution_count": 29,
   "id": "86c8559f",
   "metadata": {},
   "outputs": [],
   "source": [
    "matcher=PhraseMatcher(nlp.vocab)"
   ]
  },
  {
   "cell_type": "code",
   "execution_count": 30,
   "id": "3021e4a9",
   "metadata": {},
   "outputs": [],
   "source": [
    "with open(\"E:\\\\UPDATED_NLP_COURSE\\\\UPDATED_NLP_COURSE\\\\TextFiles\\\\reaganomics.txt\") as f:\n",
    "    doc3=nlp(f.read())"
   ]
  },
  {
   "cell_type": "code",
   "execution_count": 31,
   "id": "318d6a10",
   "metadata": {},
   "outputs": [],
   "source": [
    "phrase_list=[\"supply-side economics\",\"voodoo economics\",\"trickle-down economics\",\"free-market economics\"]"
   ]
  },
  {
   "cell_type": "code",
   "execution_count": 32,
   "id": "fbea6564",
   "metadata": {},
   "outputs": [],
   "source": [
    "phrase_pattern=[nlp(text) for text in phrase_list]"
   ]
  },
  {
   "cell_type": "code",
   "execution_count": 33,
   "id": "9fe3004e",
   "metadata": {},
   "outputs": [],
   "source": [
    "matcher.add('EcoMatcher', None,*phrase_pattern)"
   ]
  },
  {
   "cell_type": "code",
   "execution_count": 34,
   "id": "283db587",
   "metadata": {},
   "outputs": [],
   "source": [
    "found_match=matcher(doc3)"
   ]
  },
  {
   "cell_type": "code",
   "execution_count": 35,
   "id": "f852ea76",
   "metadata": {},
   "outputs": [
    {
     "name": "stdout",
     "output_type": "stream",
     "text": [
      "2351661100535932681 EcoMatcher 41 45 policies are commonly associated with supply-side economics, referred to as trickle-down economics or voodoo economics by political opponents,\n",
      "2351661100535932681 EcoMatcher 49 53 economics, referred to as trickle-down economics or voodoo economics by political opponents, and free-market economics by political advocates\n",
      "2351661100535932681 EcoMatcher 54 56 trickle-down economics or voodoo economics by political opponents, and free-market economics by political advocates.\n",
      "\n",
      "The\n",
      "2351661100535932681 EcoMatcher 61 65 by political opponents, and free-market economics by political advocates.\n",
      "\n",
      "The four pillars of Reagan's economic policy were to\n",
      "2351661100535932681 EcoMatcher 673 677 attracted a following from the supply-side economics movement, which formed in opposition to Keynesian demand-stimulus economics. This movement\n",
      "2351661100535932681 EcoMatcher 2985 2989 became widely known as \"trickle-down economics\", due to the significant cuts in the upper tax brackets, as that\n"
     ]
    }
   ],
   "source": [
    "for matcher_id, start, end in found_match:\n",
    "    string_id= nlp.vocab.strings[matcher_id]\n",
    "    span=doc3[start-5:end+15]\n",
    "    word=span.text\n",
    "    print(matcher_id, string_id, start, end, word)"
   ]
  },
  {
   "cell_type": "code",
   "execution_count": null,
   "id": "fd134f9b",
   "metadata": {},
   "outputs": [],
   "source": []
  }
 ],
 "metadata": {
  "kernelspec": {
   "display_name": "Python 3 (ipykernel)",
   "language": "python",
   "name": "python3"
  },
  "language_info": {
   "codemirror_mode": {
    "name": "ipython",
    "version": 3
   },
   "file_extension": ".py",
   "mimetype": "text/x-python",
   "name": "python",
   "nbconvert_exporter": "python",
   "pygments_lexer": "ipython3",
   "version": "3.7.11"
  }
 },
 "nbformat": 4,
 "nbformat_minor": 5
}

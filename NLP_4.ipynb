{
 "cells": [
  {
   "cell_type": "code",
   "execution_count": 9,
   "id": "dd310328",
   "metadata": {},
   "outputs": [
    {
     "name": "stdout",
     "output_type": "stream",
     "text": [
      "Collecting hn_core_web_sm\n"
     ]
    },
    {
     "name": "stderr",
     "output_type": "stream",
     "text": [
      "  Could not find a version that satisfies the requirement hn_core_web_sm (from versions: )\n",
      "No matching distribution found for hn_core_web_sm\n"
     ]
    }
   ],
   "source": [
    "# command to install the english vocablery in the spacy !pip install en_core_web_sm"
   ]
  },
  {
   "cell_type": "code",
   "execution_count": 1,
   "id": "01f1d292",
   "metadata": {},
   "outputs": [],
   "source": [
    "import spacy\n",
    "import nltk"
   ]
  },
  {
   "cell_type": "code",
   "execution_count": 2,
   "id": "831a78d5",
   "metadata": {},
   "outputs": [],
   "source": [
    "nlp=spacy.load('en_core_web_sm')"
   ]
  },
  {
   "cell_type": "code",
   "execution_count": 3,
   "id": "96811ff5",
   "metadata": {},
   "outputs": [],
   "source": [
    "doc=nlp(\"tesla is lokking to by startup in U.S. for $6 billion\")"
   ]
  },
  {
   "cell_type": "code",
   "execution_count": 4,
   "id": "24abb992",
   "metadata": {},
   "outputs": [
    {
     "name": "stdout",
     "output_type": "stream",
     "text": [
      "tesla PROPN nsubj\n",
      "is VERB aux\n",
      "lokking VERB ROOT\n",
      "to PART prep\n",
      "by ADP prep\n",
      "startup NOUN pobj\n",
      "in ADP prep\n",
      "U.S. PROPN pobj\n",
      "for ADP prep\n",
      "$ SYM quantmod\n",
      "6 NUM compound\n",
      "billion NUM pobj\n"
     ]
    }
   ],
   "source": [
    "for token in doc:\n",
    "    print(token.text, token.pos_, token.dep_) ## text prrint the tect, pos will print the part of speach, dep will print the dependencies"
   ]
  },
  {
   "cell_type": "code",
   "execution_count": 5,
   "id": "dd9c5bad",
   "metadata": {},
   "outputs": [
    {
     "data": {
      "text/plain": [
       "[('tagger', <spacy.pipeline.Tagger at 0x288a6bb0148>),\n",
       " ('parser', <spacy.pipeline.DependencyParser at 0x288a6bad468>),\n",
       " ('ner', <spacy.pipeline.EntityRecognizer at 0x288a6bada08>)]"
      ]
     },
     "execution_count": 5,
     "metadata": {},
     "output_type": "execute_result"
    }
   ],
   "source": [
    "nlp.pipeline"
   ]
  },
  {
   "cell_type": "code",
   "execution_count": 6,
   "id": "a472de23",
   "metadata": {},
   "outputs": [
    {
     "data": {
      "text/plain": [
       "['tagger', 'parser', 'ner']"
      ]
     },
     "execution_count": 6,
     "metadata": {},
     "output_type": "execute_result"
    }
   ],
   "source": [
    "nlp.pipe_names"
   ]
  },
  {
   "cell_type": "code",
   "execution_count": 7,
   "id": "7f83b8b7",
   "metadata": {},
   "outputs": [],
   "source": [
    "doc2=nlp(u\"tessla isn't any more intrested to take on startup\")"
   ]
  },
  {
   "cell_type": "code",
   "execution_count": 8,
   "id": "d4d433f2",
   "metadata": {},
   "outputs": [
    {
     "name": "stdout",
     "output_type": "stream",
     "text": [
      "tessla PROPN advmod\n",
      "is VERB ROOT\n",
      "n't ADV neg\n",
      "any DET advmod\n",
      "more ADV advmod\n",
      "intrested VERB acomp\n",
      "to PART aux\n",
      "take VERB xcomp\n",
      "on PART prt\n",
      "startup NOUN advmod\n"
     ]
    }
   ],
   "source": [
    "for token in doc2:\n",
    "    print(token.text,token.pos_, token.dep_)"
   ]
  },
  {
   "cell_type": "code",
   "execution_count": 22,
   "id": "a5cdaf50",
   "metadata": {},
   "outputs": [
    {
     "data": {
      "text/plain": [
       "'noun'"
      ]
     },
     "execution_count": 22,
     "metadata": {},
     "output_type": "execute_result"
    }
   ],
   "source": [
    "spacy.explain(\"NOUN\")"
   ]
  },
  {
   "cell_type": "code",
   "execution_count": null,
   "id": "b9c70bf5",
   "metadata": {},
   "outputs": [],
   "source": []
  },
  {
   "cell_type": "code",
   "execution_count": null,
   "id": "c2778f39",
   "metadata": {},
   "outputs": [],
   "source": []
  },
  {
   "cell_type": "code",
   "execution_count": 9,
   "id": "74da8f13",
   "metadata": {},
   "outputs": [
    {
     "data": {
      "text/plain": [
       "'advmod'"
      ]
     },
     "execution_count": 9,
     "metadata": {},
     "output_type": "execute_result"
    }
   ],
   "source": [
    "doc2[0].dep_"
   ]
  },
  {
   "cell_type": "code",
   "execution_count": 10,
   "id": "3d3d5379",
   "metadata": {},
   "outputs": [
    {
     "data": {
      "text/plain": [
       "'intrest'"
      ]
     },
     "execution_count": 10,
     "metadata": {},
     "output_type": "execute_result"
    }
   ],
   "source": [
    "doc2[5].lemma_"
   ]
  },
  {
   "cell_type": "code",
   "execution_count": 11,
   "id": "cec933df",
   "metadata": {},
   "outputs": [
    {
     "data": {
      "text/plain": [
       "'intrested'"
      ]
     },
     "execution_count": 11,
     "metadata": {},
     "output_type": "execute_result"
    }
   ],
   "source": [
    "doc2[5].text"
   ]
  },
  {
   "cell_type": "code",
   "execution_count": 28,
   "id": "109c8dae",
   "metadata": {},
   "outputs": [
    {
     "data": {
      "text/plain": [
       "True"
      ]
     },
     "execution_count": 28,
     "metadata": {},
     "output_type": "execute_result"
    }
   ],
   "source": [
    "doc2[5].is_alpha"
   ]
  },
  {
   "cell_type": "code",
   "execution_count": 13,
   "id": "970103eb",
   "metadata": {},
   "outputs": [
    {
     "data": {
      "text/plain": [
       "False"
      ]
     },
     "execution_count": 13,
     "metadata": {},
     "output_type": "execute_result"
    }
   ],
   "source": [
    "doc2[5].is_stop"
   ]
  },
  {
   "cell_type": "code",
   "execution_count": 25,
   "id": "0391066b",
   "metadata": {},
   "outputs": [
    {
     "data": {
      "text/plain": [
       "'xxxx'"
      ]
     },
     "execution_count": 25,
     "metadata": {},
     "output_type": "execute_result"
    }
   ],
   "source": [
    "doc2[0].shape_"
   ]
  },
  {
   "cell_type": "markdown",
   "id": "89cb57f4",
   "metadata": {},
   "source": [
    "### Span of the large sentences"
   ]
  },
  {
   "cell_type": "code",
   "execution_count": 26,
   "id": "0ae2eb29",
   "metadata": {},
   "outputs": [],
   "source": [
    "doc3 = nlp(u'Although commmonly attributed to John Lennon from his song \"Beautiful Boy\", \\\n",
    "the phrase \"Life is what happens to us while we are making other plans\" was written by \\\n",
    "cartoonist Allen Saunders and published in Reader\\'s Digest in 1957, when Lennon was 17.')"
   ]
  },
  {
   "cell_type": "code",
   "execution_count": 34,
   "id": "46615b78",
   "metadata": {},
   "outputs": [],
   "source": [
    "life_quote=doc3[16:30]"
   ]
  },
  {
   "cell_type": "code",
   "execution_count": 35,
   "id": "2f654055",
   "metadata": {},
   "outputs": [
    {
     "name": "stdout",
     "output_type": "stream",
     "text": [
      "\"Life is what happens to us while we are making other plans\"\n"
     ]
    }
   ],
   "source": [
    "print(life_quote)"
   ]
  },
  {
   "cell_type": "code",
   "execution_count": 37,
   "id": "29bfef7a",
   "metadata": {},
   "outputs": [
    {
     "data": {
      "text/plain": [
       "spacy.tokens.span.Span"
      ]
     },
     "execution_count": 37,
     "metadata": {},
     "output_type": "execute_result"
    }
   ],
   "source": [
    "type((life_quote))"
   ]
  },
  {
   "cell_type": "code",
   "execution_count": 38,
   "id": "64f3780a",
   "metadata": {},
   "outputs": [
    {
     "data": {
      "text/plain": [
       "spacy.tokens.doc.Doc"
      ]
     },
     "execution_count": 38,
     "metadata": {},
     "output_type": "execute_result"
    }
   ],
   "source": [
    "type(doc3)"
   ]
  },
  {
   "cell_type": "code",
   "execution_count": 39,
   "id": "e8947842",
   "metadata": {},
   "outputs": [],
   "source": [
    "doc4=nlp(u\"This is the first sentence. this is the second sentence.This is the tird sentence\")"
   ]
  },
  {
   "cell_type": "code",
   "execution_count": 41,
   "id": "360d4bbb",
   "metadata": {},
   "outputs": [
    {
     "name": "stdout",
     "output_type": "stream",
     "text": [
      "This is the first sentence.\n",
      "this is the second sentence.\n",
      "This is the tird sentence\n"
     ]
    }
   ],
   "source": [
    "for sentence in doc4.sents:\n",
    "    print(sentence)"
   ]
  },
  {
   "cell_type": "code",
   "execution_count": 42,
   "id": "c817408f",
   "metadata": {},
   "outputs": [
    {
     "data": {
      "text/plain": [
       "True"
      ]
     },
     "execution_count": 42,
     "metadata": {},
     "output_type": "execute_result"
    }
   ],
   "source": [
    "doc4[6].is_sent_start"
   ]
  },
  {
   "cell_type": "code",
   "execution_count": null,
   "id": "03517777",
   "metadata": {},
   "outputs": [],
   "source": []
  }
 ],
 "metadata": {
  "kernelspec": {
   "display_name": "Python 3 (ipykernel)",
   "language": "python",
   "name": "python3"
  },
  "language_info": {
   "codemirror_mode": {
    "name": "ipython",
    "version": 3
   },
   "file_extension": ".py",
   "mimetype": "text/x-python",
   "name": "python",
   "nbconvert_exporter": "python",
   "pygments_lexer": "ipython3",
   "version": "3.7.11"
  }
 },
 "nbformat": 4,
 "nbformat_minor": 5
}
